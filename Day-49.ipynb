{
 "cells": [
  {
   "cell_type": "markdown",
   "id": "94eb37ae",
   "metadata": {},
   "source": [
    "# **Day - 49 : End-to-End Regression Challenge**"
   ]
  },
  {
   "cell_type": "markdown",
   "id": "0c2531b9",
   "metadata": {},
   "source": [
    "*1.*\n",
    "\n",
    "*What is  meant by \"regression\" in supervised  machine learning?* "
   ]
  },
  {
   "cell_type": "markdown",
   "id": "5f6e0a39",
   "metadata": {},
   "source": [
    ">In supervised machine learning, regression means predicting a continuous numeric value based on input features.\n",
    "Example: Predicting someone’s salary, house price, or temperature based on things like experience, size, or time.\n",
    "So, unlike classification (which predicts categories like “spam” or “not spam”), regression is all about numbers."
   ]
  },
  {
   "cell_type": "markdown",
   "id": "1bdb9c1a",
   "metadata": {},
   "source": [
    "*2.*\n",
    "\n",
    "*Load the house_prediction dataset using pandas. Check for missing values, shape of the DataFrame and for duplicates.* "
   ]
  },
  {
   "cell_type": "code",
   "execution_count": 1,
   "id": "b7a4f29a",
   "metadata": {},
   "outputs": [],
   "source": [
    "import pandas as pd\n",
    "import numpy as np\n",
    "import seaborn as sns\n",
    "import matplotlib.pyplot as plt\n",
    "from sklearn.utils import shuffle\n",
    "from sklearn.preprocessing import StandardScaler\n",
    "from sklearn.model_selection import train_test_split\n",
    "from sklearn.linear_model import LinearRegression\n",
    "from sklearn.metrics import r2_score, mean_squared_error\n",
    "from sklearn.model_selection import learning_curve\n",
    "from sklearn.model_selection import cross_val_score\n",
    "import joblib"
   ]
  },
  {
   "cell_type": "code",
   "execution_count": 2,
   "id": "509a7e11",
   "metadata": {},
   "outputs": [
    {
     "data": {
      "text/html": [
       "<div>\n",
       "<style scoped>\n",
       "    .dataframe tbody tr th:only-of-type {\n",
       "        vertical-align: middle;\n",
       "    }\n",
       "\n",
       "    .dataframe tbody tr th {\n",
       "        vertical-align: top;\n",
       "    }\n",
       "\n",
       "    .dataframe thead th {\n",
       "        text-align: right;\n",
       "    }\n",
       "</style>\n",
       "<table border=\"1\" class=\"dataframe\">\n",
       "  <thead>\n",
       "    <tr style=\"text-align: right;\">\n",
       "      <th></th>\n",
       "      <th>No</th>\n",
       "      <th>X1 transaction date</th>\n",
       "      <th>X2 house age</th>\n",
       "      <th>X3 distance to the nearest MRT station</th>\n",
       "      <th>X4 number of convenience stores</th>\n",
       "      <th>X5 latitude</th>\n",
       "      <th>X6 longitude</th>\n",
       "      <th>Y house price of unit area</th>\n",
       "    </tr>\n",
       "  </thead>\n",
       "  <tbody>\n",
       "    <tr>\n",
       "      <th>0</th>\n",
       "      <td>1</td>\n",
       "      <td>2012.917</td>\n",
       "      <td>32.0</td>\n",
       "      <td>84.87882</td>\n",
       "      <td>10</td>\n",
       "      <td>24.98298</td>\n",
       "      <td>121.54024</td>\n",
       "      <td>37.9</td>\n",
       "    </tr>\n",
       "    <tr>\n",
       "      <th>1</th>\n",
       "      <td>2</td>\n",
       "      <td>2012.917</td>\n",
       "      <td>19.5</td>\n",
       "      <td>306.59470</td>\n",
       "      <td>9</td>\n",
       "      <td>24.98034</td>\n",
       "      <td>121.53951</td>\n",
       "      <td>42.2</td>\n",
       "    </tr>\n",
       "    <tr>\n",
       "      <th>2</th>\n",
       "      <td>3</td>\n",
       "      <td>2013.583</td>\n",
       "      <td>13.3</td>\n",
       "      <td>561.98450</td>\n",
       "      <td>5</td>\n",
       "      <td>24.98746</td>\n",
       "      <td>121.54391</td>\n",
       "      <td>47.3</td>\n",
       "    </tr>\n",
       "    <tr>\n",
       "      <th>3</th>\n",
       "      <td>4</td>\n",
       "      <td>2013.500</td>\n",
       "      <td>13.3</td>\n",
       "      <td>561.98450</td>\n",
       "      <td>5</td>\n",
       "      <td>24.98746</td>\n",
       "      <td>121.54391</td>\n",
       "      <td>54.8</td>\n",
       "    </tr>\n",
       "    <tr>\n",
       "      <th>4</th>\n",
       "      <td>5</td>\n",
       "      <td>2012.833</td>\n",
       "      <td>5.0</td>\n",
       "      <td>390.56840</td>\n",
       "      <td>5</td>\n",
       "      <td>24.97937</td>\n",
       "      <td>121.54245</td>\n",
       "      <td>43.1</td>\n",
       "    </tr>\n",
       "  </tbody>\n",
       "</table>\n",
       "</div>"
      ],
      "text/plain": [
       "   No  X1 transaction date  X2 house age  \\\n",
       "0   1             2012.917          32.0   \n",
       "1   2             2012.917          19.5   \n",
       "2   3             2013.583          13.3   \n",
       "3   4             2013.500          13.3   \n",
       "4   5             2012.833           5.0   \n",
       "\n",
       "   X3 distance to the nearest MRT station  X4 number of convenience stores  \\\n",
       "0                                84.87882                               10   \n",
       "1                               306.59470                                9   \n",
       "2                               561.98450                                5   \n",
       "3                               561.98450                                5   \n",
       "4                               390.56840                                5   \n",
       "\n",
       "   X5 latitude  X6 longitude  Y house price of unit area  \n",
       "0     24.98298     121.54024                        37.9  \n",
       "1     24.98034     121.53951                        42.2  \n",
       "2     24.98746     121.54391                        47.3  \n",
       "3     24.98746     121.54391                        54.8  \n",
       "4     24.97937     121.54245                        43.1  "
      ]
     },
     "execution_count": 2,
     "metadata": {},
     "output_type": "execute_result"
    }
   ],
   "source": [
    "df = pd.read_csv(\"Data/house_price_prediction_data.csv\")\n",
    "df.head()"
   ]
  },
  {
   "cell_type": "code",
   "execution_count": 3,
   "id": "c4be339d",
   "metadata": {},
   "outputs": [
    {
     "data": {
      "text/plain": [
       "No                                        0\n",
       "X1 transaction date                       0\n",
       "X2 house age                              0\n",
       "X3 distance to the nearest MRT station    0\n",
       "X4 number of convenience stores           0\n",
       "X5 latitude                               0\n",
       "X6 longitude                              0\n",
       "Y house price of unit area                0\n",
       "dtype: int64"
      ]
     },
     "execution_count": 3,
     "metadata": {},
     "output_type": "execute_result"
    }
   ],
   "source": [
    "df.isnull().sum()"
   ]
  },
  {
   "cell_type": "code",
   "execution_count": 4,
   "id": "9b6e1132",
   "metadata": {},
   "outputs": [
    {
     "data": {
      "text/plain": [
       "(414, 8)"
      ]
     },
     "execution_count": 4,
     "metadata": {},
     "output_type": "execute_result"
    }
   ],
   "source": [
    "df.shape"
   ]
  },
  {
   "cell_type": "code",
   "execution_count": 5,
   "id": "9a1ab040",
   "metadata": {},
   "outputs": [
    {
     "data": {
      "text/plain": [
       "0"
      ]
     },
     "execution_count": 5,
     "metadata": {},
     "output_type": "execute_result"
    }
   ],
   "source": [
    "df.duplicated().sum()"
   ]
  },
  {
   "cell_type": "markdown",
   "id": "b77259f7",
   "metadata": {},
   "source": [
    "*3.*\n",
    "\n",
    "*In  machine  learning,  what  is  the  meaning  of  \"continuous values\"?  Which  columns  in  the  DataFrame  above  have continuous values?* "
   ]
  },
  {
   "cell_type": "markdown",
   "id": "83b96654",
   "metadata": {},
   "source": [
    ">Continuous values in machine learning are numerical values that can take on any number within a range—including decimals. They’re not limited to fixed categories or whole numbers.\n",
    "Examples:\n",
    "Height (e.g., 170.5 cm)\n",
    "Temperature (e.g., 36.6°C)\n",
    "Price (e.g., $499.99)"
   ]
  },
  {
   "cell_type": "markdown",
   "id": "93417208",
   "metadata": {},
   "source": [
    "*4.*\n",
    "\n",
    "*What is the main goal of  Exploratory Data Analysis (EDA)?* "
   ]
  },
  {
   "cell_type": "markdown",
   "id": "5d2e2854",
   "metadata": {},
   "source": [
    ">The main goal of Exploratory Data Analysis (EDA) is to understand the data before building a model.\n",
    "You do EDA to:\n",
    "1. Spot patterns, trends, or outliers\n",
    "2. Check for missing values or weird data\n",
    "3. Understand relationships between variables\n",
    "4. Guide your next steps in cleaning, transforming, or modeling the data.\n",
    "\n",
    ">Think of EDA like getting to know someone before going into a serious relationship—you need to know what you’re working with."
   ]
  },
  {
   "cell_type": "code",
   "execution_count": 6,
   "id": "64be0344",
   "metadata": {},
   "outputs": [
    {
     "data": {
      "image/png": "[encoded data removed]",
      "text/plain": [
       "<Figure size 1200x800 with 1 Axes>"
      ]
     },
     "metadata": {},
     "output_type": "display_data"
    }
   ],
   "source": [
    "# a. Plot a scatter plot of the \" X2 house age\" column and \"Y house price of unit area\" column. This will reveal any relationship between this variable and the target column.\n",
    "\n",
    "\n",
    "plt.figure(figsize = (12, 8))\n",
    "plt.scatter(x = df[\"X2 house age\"], \n",
    "            y = df[\"Y house price of unit area\"])\n",
    "plt.xlabel(\"House Age\")\n",
    "plt.ylabel(\"Price\")\n",
    "plt.title( \"House Age vs Price\", fontsize = 20)\n",
    "plt.show()"
   ]
  },
  {
   "cell_type": "code",
   "execution_count": 7,
   "id": "3ee1ab6c",
   "metadata": {},
   "outputs": [
    {
     "data": {
      "image/png": "[encoded data removed]",
      "text/plain": [
       "<Figure size 1200x800 with 1 Axes>"
      ]
     },
     "metadata": {},
     "output_type": "display_data"
    }
   ],
   "source": [
    "# b. Using seaborn, plot a barplot of \"X4 number of convenience stores\" column and the \"Y house price of unit area\". Is there a correlation between the number of stores and the price of the house?\n",
    "\n",
    "plt.figure(figsize=(12,8))\n",
    "sns.barplot(data=df, \n",
    "            x=df[\"X4 number of convenience stores\"], \n",
    "            y=df[\"Y house price of unit area\"])\n",
    "plt.title(\"House Price vs Number of Stores\", fontsize = 20)\n",
    "plt.show()"
   ]
  },
  {
   "cell_type": "code",
   "execution_count": 8,
   "id": "645f82cc",
   "metadata": {},
   "outputs": [
    {
     "name": "stdout",
     "output_type": "stream",
     "text": [
      "Mean price is: 37.98\n"
     ]
    },
    {
     "data": {
      "image/png": "[encoded data removed]",
      "text/plain": [
       "<Figure size 1200x800 with 1 Axes>"
      ]
     },
     "metadata": {},
     "output_type": "display_data"
    }
   ],
   "source": [
    "# c. To check the distribution of data, using Matplotlib, create a hist plot of the \"Y house price of unit area\" column(target column). What is the mean of the column? Add a mean line to the plot. Do you notice ant outliers in the data?\n",
    "\n",
    "plt.figure(figsize=(12,8))\n",
    "plt.hist(df[\"Y house price of unit area\"], \n",
    "         bins= 100)\n",
    "\n",
    "print(f'Mean price is: {df[\"Y house price of unit area\"].mean():.2f}')\n",
    "\n",
    "plt.axvline(df[\"Y house price of unit area\"].mean(), \n",
    "            color='Red', \n",
    "            linestyle='solid', \n",
    "            linewidth=3)\n",
    "plt.ylabel(\"Frequency\")\n",
    "plt.xlabel(\"House Price\")\n",
    "plt.title(\"Target Column Distribution\", fontsize = 20)\n",
    "plt.show()"
   ]
  },
  {
   "cell_type": "code",
   "execution_count": 9,
   "id": "ae8c54f1",
   "metadata": {},
   "outputs": [],
   "source": [
    "df_copy = df.copy()"
   ]
  },
  {
   "cell_type": "code",
   "execution_count": 10,
   "id": "cebba32f",
   "metadata": {},
   "outputs": [],
   "source": [
    "df_copy = df_copy[df_copy[\"Y house price of unit area\"] < 115]"
   ]
  },
  {
   "cell_type": "code",
   "execution_count": 11,
   "id": "c2517bf5",
   "metadata": {},
   "outputs": [
    {
     "data": {
      "text/html": [
       "<div>\n",
       "<style scoped>\n",
       "    .dataframe tbody tr th:only-of-type {\n",
       "        vertical-align: middle;\n",
       "    }\n",
       "\n",
       "    .dataframe tbody tr th {\n",
       "        vertical-align: top;\n",
       "    }\n",
       "\n",
       "    .dataframe thead th {\n",
       "        text-align: right;\n",
       "    }\n",
       "</style>\n",
       "<table border=\"1\" class=\"dataframe\">\n",
       "  <thead>\n",
       "    <tr style=\"text-align: right;\">\n",
       "      <th></th>\n",
       "      <th>X1 transaction date</th>\n",
       "      <th>X2 house age</th>\n",
       "      <th>X3 distance to the nearest MRT station</th>\n",
       "      <th>X4 number of convenience stores</th>\n",
       "      <th>X5 latitude</th>\n",
       "      <th>X6 longitude</th>\n",
       "      <th>Y house price of unit area</th>\n",
       "    </tr>\n",
       "  </thead>\n",
       "  <tbody>\n",
       "    <tr>\n",
       "      <th>0</th>\n",
       "      <td>2012.917</td>\n",
       "      <td>32.0</td>\n",
       "      <td>84.87882</td>\n",
       "      <td>10</td>\n",
       "      <td>24.98298</td>\n",
       "      <td>121.54024</td>\n",
       "      <td>37.9</td>\n",
       "    </tr>\n",
       "    <tr>\n",
       "      <th>1</th>\n",
       "      <td>2012.917</td>\n",
       "      <td>19.5</td>\n",
       "      <td>306.59470</td>\n",
       "      <td>9</td>\n",
       "      <td>24.98034</td>\n",
       "      <td>121.53951</td>\n",
       "      <td>42.2</td>\n",
       "    </tr>\n",
       "    <tr>\n",
       "      <th>2</th>\n",
       "      <td>2013.583</td>\n",
       "      <td>13.3</td>\n",
       "      <td>561.98450</td>\n",
       "      <td>5</td>\n",
       "      <td>24.98746</td>\n",
       "      <td>121.54391</td>\n",
       "      <td>47.3</td>\n",
       "    </tr>\n",
       "    <tr>\n",
       "      <th>3</th>\n",
       "      <td>2013.500</td>\n",
       "      <td>13.3</td>\n",
       "      <td>561.98450</td>\n",
       "      <td>5</td>\n",
       "      <td>24.98746</td>\n",
       "      <td>121.54391</td>\n",
       "      <td>54.8</td>\n",
       "    </tr>\n",
       "    <tr>\n",
       "      <th>4</th>\n",
       "      <td>2012.833</td>\n",
       "      <td>5.0</td>\n",
       "      <td>390.56840</td>\n",
       "      <td>5</td>\n",
       "      <td>24.97937</td>\n",
       "      <td>121.54245</td>\n",
       "      <td>43.1</td>\n",
       "    </tr>\n",
       "  </tbody>\n",
       "</table>\n",
       "</div>"
      ],
      "text/plain": [
       "   X1 transaction date  X2 house age  X3 distance to the nearest MRT station  \\\n",
       "0             2012.917          32.0                                84.87882   \n",
       "1             2012.917          19.5                               306.59470   \n",
       "2             2013.583          13.3                               561.98450   \n",
       "3             2013.500          13.3                               561.98450   \n",
       "4             2012.833           5.0                               390.56840   \n",
       "\n",
       "   X4 number of convenience stores  X5 latitude  X6 longitude  \\\n",
       "0                               10     24.98298     121.54024   \n",
       "1                                9     24.98034     121.53951   \n",
       "2                                5     24.98746     121.54391   \n",
       "3                                5     24.98746     121.54391   \n",
       "4                                5     24.97937     121.54245   \n",
       "\n",
       "   Y house price of unit area  \n",
       "0                        37.9  \n",
       "1                        42.2  \n",
       "2                        47.3  \n",
       "3                        54.8  \n",
       "4                        43.1  "
      ]
     },
     "execution_count": 11,
     "metadata": {},
     "output_type": "execute_result"
    }
   ],
   "source": [
    "df_copy = df_copy.drop(columns=[\"No\"])\n",
    "df_copy.head()"
   ]
  },
  {
   "cell_type": "code",
   "execution_count": 12,
   "id": "2488aea4",
   "metadata": {},
   "outputs": [
    {
     "data": {
      "text/html": [
       "<div>\n",
       "<style scoped>\n",
       "    .dataframe tbody tr th:only-of-type {\n",
       "        vertical-align: middle;\n",
       "    }\n",
       "\n",
       "    .dataframe tbody tr th {\n",
       "        vertical-align: top;\n",
       "    }\n",
       "\n",
       "    .dataframe thead th {\n",
       "        text-align: right;\n",
       "    }\n",
       "</style>\n",
       "<table border=\"1\" class=\"dataframe\">\n",
       "  <thead>\n",
       "    <tr style=\"text-align: right;\">\n",
       "      <th></th>\n",
       "      <th>X2 house age</th>\n",
       "      <th>X3 distance to the nearest MRT station</th>\n",
       "      <th>X4 number of convenience stores</th>\n",
       "      <th>X5 latitude</th>\n",
       "      <th>X6 longitude</th>\n",
       "      <th>Y house price of unit area</th>\n",
       "      <th>X1 Transaction Year</th>\n",
       "    </tr>\n",
       "  </thead>\n",
       "  <tbody>\n",
       "    <tr>\n",
       "      <th>0</th>\n",
       "      <td>32.0</td>\n",
       "      <td>84.87882</td>\n",
       "      <td>10</td>\n",
       "      <td>24.98298</td>\n",
       "      <td>121.54024</td>\n",
       "      <td>37.9</td>\n",
       "      <td>2012</td>\n",
       "    </tr>\n",
       "    <tr>\n",
       "      <th>1</th>\n",
       "      <td>19.5</td>\n",
       "      <td>306.59470</td>\n",
       "      <td>9</td>\n",
       "      <td>24.98034</td>\n",
       "      <td>121.53951</td>\n",
       "      <td>42.2</td>\n",
       "      <td>2012</td>\n",
       "    </tr>\n",
       "    <tr>\n",
       "      <th>2</th>\n",
       "      <td>13.3</td>\n",
       "      <td>561.98450</td>\n",
       "      <td>5</td>\n",
       "      <td>24.98746</td>\n",
       "      <td>121.54391</td>\n",
       "      <td>47.3</td>\n",
       "      <td>2013</td>\n",
       "    </tr>\n",
       "    <tr>\n",
       "      <th>3</th>\n",
       "      <td>13.3</td>\n",
       "      <td>561.98450</td>\n",
       "      <td>5</td>\n",
       "      <td>24.98746</td>\n",
       "      <td>121.54391</td>\n",
       "      <td>54.8</td>\n",
       "      <td>2013</td>\n",
       "    </tr>\n",
       "    <tr>\n",
       "      <th>4</th>\n",
       "      <td>5.0</td>\n",
       "      <td>390.56840</td>\n",
       "      <td>5</td>\n",
       "      <td>24.97937</td>\n",
       "      <td>121.54245</td>\n",
       "      <td>43.1</td>\n",
       "      <td>2012</td>\n",
       "    </tr>\n",
       "  </tbody>\n",
       "</table>\n",
       "</div>"
      ],
      "text/plain": [
       "   X2 house age  X3 distance to the nearest MRT station  \\\n",
       "0          32.0                                84.87882   \n",
       "1          19.5                               306.59470   \n",
       "2          13.3                               561.98450   \n",
       "3          13.3                               561.98450   \n",
       "4           5.0                               390.56840   \n",
       "\n",
       "   X4 number of convenience stores  X5 latitude  X6 longitude  \\\n",
       "0                               10     24.98298     121.54024   \n",
       "1                                9     24.98034     121.53951   \n",
       "2                                5     24.98746     121.54391   \n",
       "3                                5     24.98746     121.54391   \n",
       "4                                5     24.97937     121.54245   \n",
       "\n",
       "   Y house price of unit area  X1 Transaction Year  \n",
       "0                        37.9                 2012  \n",
       "1                        42.2                 2012  \n",
       "2                        47.3                 2013  \n",
       "3                        54.8                 2013  \n",
       "4                        43.1                 2012  "
      ]
     },
     "execution_count": 12,
     "metadata": {},
     "output_type": "execute_result"
    }
   ],
   "source": [
    "def convert_column(column):\n",
    "    column =  column.astype(\"str\")\n",
    "    df_copy [[\"X1 Transaction Year\", \"Date\"]] = column.str.split(\".\", expand = True).astype(int)\n",
    "    df_copy.drop(columns=[\"X1 transaction date\",\"Date\" ], inplace=True)\n",
    "    return df_copy.head()\n",
    "\n",
    "convert_column(df_copy[\"X1 transaction date\"])"
   ]
  },
  {
   "cell_type": "markdown",
   "id": "082fd0e2",
   "metadata": {},
   "source": [
    "*5.*\n",
    "\n",
    "*Create a copy of the DataFrame and drop all rows that have values of over 115 in the \"Y house price of unit area\" column. These are outliers.* "
   ]
  },
  {
   "cell_type": "markdown",
   "id": "51b5074a",
   "metadata": {},
   "source": [
    "*6.*\n",
    "\n",
    "*As  you  may  have  noticed,  the  \"No\"  column  is  an  index column.  Since  our  DataFrame  has  a  numeric  index,  drop this column.* "
   ]
  },
  {
   "cell_type": "markdown",
   "id": "2683439a",
   "metadata": {},
   "source": [
    "*7.*\n",
    "\n",
    "*Extract the year from the \"X1 transaction date\" column and create a year column called \"X1 Transaction Year.\" Drop the \"X1 transaction date\" from the DataFrame. The \"X1 Transaction Year\" should be the only date column.* "
   ]
  },
  {
   "cell_type": "markdown",
   "id": "ab9a7d43",
   "metadata": {},
   "source": [
    "*8.*\n",
    "\n",
    "*Shuffling a DataFrame is important in machine learning to avoid any bias that may be introduced when the data is ordered in a certain way. Our data seem to have a particular order. The prices and sizes are ordered from smallest to largest. This may create bias. Using scikit-learn, shuffle the DataFrame.* "
   ]
  },
  {
   "cell_type": "code",
   "execution_count": 13,
   "id": "42b1006e",
   "metadata": {},
   "outputs": [
    {
     "data": {
      "text/html": [
       "<div>\n",
       "<style scoped>\n",
       "    .dataframe tbody tr th:only-of-type {\n",
       "        vertical-align: middle;\n",
       "    }\n",
       "\n",
       "    .dataframe tbody tr th {\n",
       "        vertical-align: top;\n",
       "    }\n",
       "\n",
       "    .dataframe thead th {\n",
       "        text-align: right;\n",
       "    }\n",
       "</style>\n",
       "<table border=\"1\" class=\"dataframe\">\n",
       "  <thead>\n",
       "    <tr style=\"text-align: right;\">\n",
       "      <th></th>\n",
       "      <th>X2 house age</th>\n",
       "      <th>X3 distance to the nearest MRT station</th>\n",
       "      <th>X4 number of convenience stores</th>\n",
       "      <th>X5 latitude</th>\n",
       "      <th>X6 longitude</th>\n",
       "      <th>Y house price of unit area</th>\n",
       "      <th>X1 Transaction Year</th>\n",
       "    </tr>\n",
       "  </thead>\n",
       "  <tbody>\n",
       "    <tr>\n",
       "      <th>395</th>\n",
       "      <td>21.2</td>\n",
       "      <td>512.5487</td>\n",
       "      <td>4</td>\n",
       "      <td>24.97400</td>\n",
       "      <td>121.53842</td>\n",
       "      <td>42.5</td>\n",
       "      <td>2012</td>\n",
       "    </tr>\n",
       "    <tr>\n",
       "      <th>350</th>\n",
       "      <td>13.2</td>\n",
       "      <td>492.2313</td>\n",
       "      <td>5</td>\n",
       "      <td>24.96515</td>\n",
       "      <td>121.53737</td>\n",
       "      <td>42.3</td>\n",
       "      <td>2013</td>\n",
       "    </tr>\n",
       "    <tr>\n",
       "      <th>401</th>\n",
       "      <td>7.6</td>\n",
       "      <td>2175.0300</td>\n",
       "      <td>3</td>\n",
       "      <td>24.96305</td>\n",
       "      <td>121.51254</td>\n",
       "      <td>27.7</td>\n",
       "      <td>2013</td>\n",
       "    </tr>\n",
       "    <tr>\n",
       "      <th>354</th>\n",
       "      <td>12.2</td>\n",
       "      <td>1360.1390</td>\n",
       "      <td>1</td>\n",
       "      <td>24.95204</td>\n",
       "      <td>121.54842</td>\n",
       "      <td>30.1</td>\n",
       "      <td>2013</td>\n",
       "    </tr>\n",
       "    <tr>\n",
       "      <th>181</th>\n",
       "      <td>11.6</td>\n",
       "      <td>201.8939</td>\n",
       "      <td>8</td>\n",
       "      <td>24.98489</td>\n",
       "      <td>121.54121</td>\n",
       "      <td>55.9</td>\n",
       "      <td>2013</td>\n",
       "    </tr>\n",
       "  </tbody>\n",
       "</table>\n",
       "</div>"
      ],
      "text/plain": [
       "     X2 house age  X3 distance to the nearest MRT station  \\\n",
       "395          21.2                                512.5487   \n",
       "350          13.2                                492.2313   \n",
       "401           7.6                               2175.0300   \n",
       "354          12.2                               1360.1390   \n",
       "181          11.6                                201.8939   \n",
       "\n",
       "     X4 number of convenience stores  X5 latitude  X6 longitude  \\\n",
       "395                                4     24.97400     121.53842   \n",
       "350                                5     24.96515     121.53737   \n",
       "401                                3     24.96305     121.51254   \n",
       "354                                1     24.95204     121.54842   \n",
       "181                                8     24.98489     121.54121   \n",
       "\n",
       "     Y house price of unit area  X1 Transaction Year  \n",
       "395                        42.5                 2012  \n",
       "350                        42.3                 2013  \n",
       "401                        27.7                 2013  \n",
       "354                        30.1                 2013  \n",
       "181                        55.9                 2013  "
      ]
     },
     "execution_count": 13,
     "metadata": {},
     "output_type": "execute_result"
    }
   ],
   "source": [
    "df_shuffled = shuffle(df_copy, random_state = 42)\n",
    "df_shuffled.head()"
   ]
  },
  {
   "cell_type": "markdown",
   "id": "3f730227",
   "metadata": {},
   "source": [
    "*9.*\n",
    "\n",
    "*Write a code to separate the DataFrame into X and y variables. X for feature columns and y for the target column. Use scikit-learn's train_test_split function to split the X and y variables into training and test sets. Make the test set to be 10% of the data.* "
   ]
  },
  {
   "cell_type": "code",
   "execution_count": 14,
   "id": "daf8d963",
   "metadata": {},
   "outputs": [],
   "source": [
    "X = df_shuffled.drop(columns=[\"Y house price of unit area\"])\n",
    "y = df_shuffled[\"Y house price of unit area\"]\n",
    "\n",
    "\n",
    "X_train, X_test, y_train, y_test = train_test_split(X, y, \n",
    "                                                    test_size=0.1, \n",
    "                                                    random_state=23)"
   ]
  },
  {
   "cell_type": "markdown",
   "id": "1225a4fd",
   "metadata": {},
   "source": [
    "*10.*\n",
    "\n",
    "*Using scikit-learn LinearRegression, select the model for your data based on the size of your dataset. Ensure that your data is scaled before fitting. Use the r2_score, and MSE(mean squared error) metrics to evaluate the model. What conclusion can you draw from the score results?* "
   ]
  },
  {
   "cell_type": "code",
   "execution_count": 16,
   "id": "d59af475",
   "metadata": {},
   "outputs": [
    {
     "ename": "TypeError",
     "evalue": "'numpy.float64' object is not callable",
     "output_type": "error",
     "traceback": [
      "\u001b[1;31m---------------------------------------------------------------------------\u001b[0m",
      "\u001b[1;31mTypeError\u001b[0m                                 Traceback (most recent call last)",
      "Cell \u001b[1;32mIn[16], line 8\u001b[0m\n\u001b[0;32m      6\u001b[0m reg\u001b[38;5;241m.\u001b[39mfit(X_train, y_train)\n\u001b[0;32m      7\u001b[0m y_pred \u001b[38;5;241m=\u001b[39m reg\u001b[38;5;241m.\u001b[39mpredict(X_test)\n\u001b[1;32m----> 8\u001b[0m r2_score \u001b[38;5;241m=\u001b[39m \u001b[43mr2_score\u001b[49m\u001b[43m(\u001b[49m\u001b[43my_test\u001b[49m\u001b[43m,\u001b[49m\u001b[43m \u001b[49m\u001b[43my_pred\u001b[49m\u001b[43m)\u001b[49m\n\u001b[0;32m      9\u001b[0m mse \u001b[38;5;241m=\u001b[39m mean_squared_error(y_test,y_pred)\n\u001b[0;32m     10\u001b[0m \u001b[38;5;28mprint\u001b[39m(\u001b[38;5;124mf\u001b[39m\u001b[38;5;124m'\u001b[39m\u001b[38;5;124mThe r2_score is: \u001b[39m\u001b[38;5;132;01m{\u001b[39;00mr2_score\u001b[38;5;132;01m:\u001b[39;00m\u001b[38;5;124m.2f\u001b[39m\u001b[38;5;132;01m}\u001b[39;00m\u001b[38;5;124m'\u001b[39m)\n",
      "\u001b[1;31mTypeError\u001b[0m: 'numpy.float64' object is not callable"
     ]
    }
   ],
   "source": [
    "scaler = StandardScaler()\n",
    "X_train = scaler.fit_transform(X_train)\n",
    "X_test = scaler.fit_transform(X_test)\n",
    "\n",
    "reg = LinearRegression()\n",
    "reg.fit(X_train, y_train)\n",
    "y_pred = reg.predict(X_test)\n",
    "r2_score = r2_score(y_test, y_pred)\n",
    "mse = mean_squared_error(y_test,y_pred)\n",
    "print(f'The r2_score is: {r2_score:.2f}')\n",
    "print(f'The mean squared error is: {mse:.2f}')"
   ]
  },
  {
   "cell_type": "markdown",
   "id": "21d4c2d9",
   "metadata": {},
   "source": [
    "*11.*\n",
    "\n",
    "*Use the cross validation function to assess the performance of a model on unseen data. Use the LinearRegression model.Make the number of folds 10.a* "
   ]
  },
  {
   "cell_type": "code",
   "execution_count": 17,
   "id": "99bd2f6d",
   "metadata": {},
   "outputs": [
    {
     "name": "stdout",
     "output_type": "stream",
     "text": [
      "The accuracy score is 0.60\n"
     ]
    }
   ],
   "source": [
    "reg_2 = LinearRegression()\n",
    "scores = cross_val_score(reg_2, X, y, cv=10, scoring ='r2')\n",
    "print(f'The accuracy score is {scores.mean():.2f}')"
   ]
  },
  {
   "cell_type": "markdown",
   "id": "bb360d90",
   "metadata": {},
   "source": [
    "*12.*\n",
    "\n",
    "*Save the model you fitted in questin 10 using joblib. Load the model and make predictions on x_test.* "
   ]
  },
  {
   "cell_type": "code",
   "execution_count": 18,
   "id": "e4275b73",
   "metadata": {},
   "outputs": [
    {
     "data": {
      "text/plain": [
       "['regression_model.joblib']"
      ]
     },
     "execution_count": 18,
     "metadata": {},
     "output_type": "execute_result"
    }
   ],
   "source": [
    "\n",
    "joblib.dump(reg, 'regression_model.joblib')"
   ]
  },
  {
   "cell_type": "code",
   "execution_count": 19,
   "id": "33e248a1",
   "metadata": {},
   "outputs": [
    {
     "data": {
      "text/plain": [
       "array([27.09757879, 51.44825839, 34.04118703, 30.39047647, 13.82357914,\n",
       "       16.69349041, 42.60603813, 27.15964181, 45.86711546, 48.67321448,\n",
       "       45.85921106, 14.605422  , 33.08864684, 37.19218743, 37.48843452,\n",
       "       33.42672213, 39.26182668, 41.94741088, 51.41722688, 47.36001613,\n",
       "       41.62995642, 26.03667193, 51.2523784 , 43.91308039, 51.35516386,\n",
       "       32.61166218, 30.86537266, 31.62878771, 45.78739233, 44.53276692,\n",
       "       39.49156072, 47.34957458, 34.68217714, 44.10032808, 44.13135959,\n",
       "       45.16105813, 14.38079497, 42.60603813, 38.41266862, 43.52172732,\n",
       "       44.54134562, 34.93780812])"
      ]
     },
     "execution_count": 19,
     "metadata": {},
     "output_type": "execute_result"
    }
   ],
   "source": [
    "reg_loaded = joblib.load(\"regression_model.joblib\")\n",
    "\n",
    "model_predictions = reg_loaded.predict(X_test)\n",
    "model_predictions"
   ]
  },
  {
   "cell_type": "code",
   "execution_count": null,
   "id": "8b8d6269",
   "metadata": {},
   "outputs": [],
   "source": []
  }
 ],
 "metadata": {
  "kernelspec": {
   "display_name": "Python 3",
   "language": "python",
   "name": "python3"
  },
  "language_info": {
   "codemirror_mode": {
    "name": "ipython",
    "version": 3
   },
   "file_extension": ".py",
   "mimetype": "text/x-python",
   "name": "python",
   "nbconvert_exporter": "python",
   "pygments_lexer": "ipython3",
   "version": "3.11.1"
  }
 },
 "nbformat": 4,
 "nbformat_minor": 5
}

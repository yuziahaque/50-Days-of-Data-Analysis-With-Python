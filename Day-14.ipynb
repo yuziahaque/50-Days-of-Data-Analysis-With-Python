{
 "cells": [
  {
   "cell_type": "markdown",
   "id": "b15ca9f5",
   "metadata": {},
   "source": [
    "# **Day - 14 : Analyze Data with NumPy Part - 1**"
   ]
  },
  {
   "cell_type": "code",
   "execution_count": 11,
   "id": "9ada689c",
   "metadata": {},
   "outputs": [
    {
     "data": {
      "text/plain": [
       "array([['Kelly', 'Ben', 'Jack', 'Muhammad', 'Jose', 'Liz'],\n",
       "       ['45', '65', '75', '35', '85', '40'],\n",
       "       ['a', 'c', 'e', 'g', 'e', 'f']], dtype='<U11')"
      ]
     },
     "execution_count": 11,
     "metadata": {},
     "output_type": "execute_result"
    }
   ],
   "source": [
    "import numpy as np\n",
    "\n",
    "names = [\"Kelly\", \"Ben\", \"Jack\", \"Muhammad\", \"Jose\", \"Liz\"]\n",
    "grades = [ 45, 65, 75, 35, 85, 40]\n",
    "classes = [\"a\", \"c\", \"e\", \"g\", \"e\", \"f\"]\n",
    "\n",
    "student_array = np.array([names, grades, classes])\n",
    "student_array"
   ]
  },
  {
   "cell_type": "markdown",
   "id": "fd56064a",
   "metadata": {},
   "source": [
    "*1.*\n",
    "\n",
    "*Using NumPy, write a code that returns all the names and number of students from class \"e\" who got over 50 marks.* "
   ]
  },
  {
   "cell_type": "code",
   "execution_count": 12,
   "id": "cfcc4ac5",
   "metadata": {},
   "outputs": [
    {
     "name": "stdout",
     "output_type": "stream",
     "text": [
      "Students from class 'e' with over 50 are: ['Jack' 'Jose']\n",
      "Number Students who got over 50 marks in class 'e'are: 2\n"
     ]
    }
   ],
   "source": [
    "names = student_array[0:1,0:]\n",
    "\n",
    "grades = student_array[1:2,0:].astype(int)\n",
    "\n",
    "classes = student_array[2:3, 0:]\n",
    "\n",
    "indices = np.where((classes == \"e\") & (grades > 50))\n",
    "\n",
    "over_50_names = len(names[indices])\n",
    "\n",
    "class_e_students_over_50 = names[indices]\n",
    "\n",
    "print(\"Students from class 'e' with over 50 are:\", class_e_students_over_50)\n",
    "print(f\"Number Students who got over 50 marks in class 'e'are: {over_50_names}\")"
   ]
  },
  {
   "cell_type": "code",
   "execution_count": 13,
   "id": "ac11591f",
   "metadata": {},
   "outputs": [
    {
     "data": {
      "text/plain": [
       "array([['Kelly', 'Ben', 'Jack', 'Muhammad', 'Jose', 'Liz']], dtype='<U11')"
      ]
     },
     "execution_count": 13,
     "metadata": {},
     "output_type": "execute_result"
    }
   ],
   "source": [
    "names"
   ]
  },
  {
   "cell_type": "markdown",
   "id": "ac945599",
   "metadata": {},
   "source": [
    "*2.*\n",
    "\n",
    "*Your next task is to write a code that returns all the students who got less than 75 marks.* "
   ]
  },
  {
   "cell_type": "code",
   "execution_count": 14,
   "id": "79631e98",
   "metadata": {},
   "outputs": [
    {
     "name": "stdout",
     "output_type": "stream",
     "text": [
      "['Kelly' 'Ben' 'Muhammad' 'Liz']\n"
     ]
    }
   ],
   "source": [
    "indices = np.where(grades < 75)\n",
    "\n",
    "less_75_marks = names[indices]\n",
    "print(less_75_marks)"
   ]
  },
  {
   "cell_type": "code",
   "execution_count": 15,
   "id": "bf2c2afe",
   "metadata": {},
   "outputs": [
    {
     "name": "stdout",
     "output_type": "stream",
     "text": [
      "['Kelly', 'Ben', 'Muhammad', 'Liz']\n"
     ]
    }
   ],
   "source": [
    "names_75 = names[grades < 75]\n",
    "\n",
    "print(list(names_75))"
   ]
  },
  {
   "cell_type": "markdown",
   "id": "9f6a457b",
   "metadata": {},
   "source": [
    "*3.*\n",
    "\n",
    "*Write a code that returns how many marks a student named Liz got.* "
   ]
  },
  {
   "cell_type": "code",
   "execution_count": 16,
   "id": "9e597d11",
   "metadata": {},
   "outputs": [
    {
     "name": "stdout",
     "output_type": "stream",
     "text": [
      "Liz got 40 marks\n"
     ]
    },
    {
     "name": "stderr",
     "output_type": "stream",
     "text": [
      "C:\\Users\\User\\AppData\\Local\\Temp\\ipykernel_25788\\2919431820.py:3: DeprecationWarning: Conversion of an array with ndim > 0 to a scalar is deprecated, and will error in future. Ensure you extract a single element from your array before performing this operation. (Deprecated NumPy 1.25.)\n",
      "  liz_marks = int(grades[index])\n"
     ]
    }
   ],
   "source": [
    "index = np.where(names == \"Liz\")\n",
    "\n",
    "liz_marks = int(grades[index])\n",
    "print(f\"Liz got {liz_marks} marks\")"
   ]
  },
  {
   "cell_type": "markdown",
   "id": "727acd91",
   "metadata": {},
   "source": [
    "*4.*\n",
    "\n",
    "*Which student got the highest marks?* "
   ]
  },
  {
   "cell_type": "code",
   "execution_count": 17,
   "id": "924bcbbc",
   "metadata": {},
   "outputs": [
    {
     "name": "stdout",
     "output_type": "stream",
     "text": [
      "The student who got the highest marks is, Jose\n"
     ]
    }
   ],
   "source": [
    "highest_index = np.argmax(grades)\n",
    "name = names[:,highest_index]\n",
    "print(f'The student who got the highest marks is, {\"\".join(name)}')"
   ]
  },
  {
   "cell_type": "code",
   "execution_count": 18,
   "id": "ec3be8ec",
   "metadata": {},
   "outputs": [
    {
     "name": "stdout",
     "output_type": "stream",
     "text": [
      "The student who got the highest marks is, Jose\n"
     ]
    }
   ],
   "source": [
    "name = names[grades == np.max(grades)]\n",
    "\n",
    "print(f'The student who got the highest marks is, {name[0]}')"
   ]
  },
  {
   "cell_type": "markdown",
   "id": "239fb77e",
   "metadata": {},
   "source": [
    "*5.*\n",
    "\n",
    "*What is the longest name in the array and what is its index?* "
   ]
  },
  {
   "cell_type": "code",
   "execution_count": 19,
   "id": "45de4752",
   "metadata": {},
   "outputs": [
    {
     "name": "stdout",
     "output_type": "stream",
     "text": [
      "The longest name is sitting at index: 3\n",
      "The longest name is: Muhammad\n"
     ]
    }
   ],
   "source": [
    "longest_word = np.char.str_len(student_array[0:1,0:])\n",
    "\n",
    "index_of_longest_word = np.argmax(longest_word)\n",
    "\n",
    "longest_word = student_array[:,index_of_longest_word]\n",
    "\n",
    "print(f'The longest name is sitting at index: {index_of_longest_word}')\n",
    "print(f'The longest name is: {longest_word[0]}')"
   ]
  },
  {
   "cell_type": "code",
   "execution_count": 20,
   "id": "7837e455",
   "metadata": {},
   "outputs": [
    {
     "name": "stdout",
     "output_type": "stream",
     "text": [
      "The longest name is sitting at index: 3\n",
      "The longest name is: Muhammad\n"
     ]
    }
   ],
   "source": [
    "longest_word = np.char.str_len(names)\n",
    "\n",
    "index_of_longest_word = np.argmax(longest_word)\n",
    "\n",
    "longest_word = names[:,index_of_longest_word]\n",
    "\n",
    "print(f'The longest name is sitting at index: {index_of_longest_word}')\n",
    "print(f'The longest name is: {longest_word[0]}')"
   ]
  }
 ],
 "metadata": {
  "kernelspec": {
   "display_name": "Python 3",
   "language": "python",
   "name": "python3"
  },
  "language_info": {
   "codemirror_mode": {
    "name": "ipython",
    "version": 3
   },
   "file_extension": ".py",
   "mimetype": "text/x-python",
   "name": "python",
   "nbconvert_exporter": "python",
   "pygments_lexer": "ipython3",
   "version": "3.11.1"
  }
 },
 "nbformat": 4,
 "nbformat_minor": 5
}

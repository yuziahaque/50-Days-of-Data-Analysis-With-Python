{
 "cells": [
  {
   "cell_type": "markdown",
   "id": "4ce20f9b",
   "metadata": {},
   "source": [
    "# **Day - 15 : Analyse Data with NumPy Part - 2**"
   ]
  },
  {
   "cell_type": "markdown",
   "id": "b8e2a118",
   "metadata": {},
   "source": [
    "*1.*\n",
    "\n",
    "*You task is to import the CSV file using this NumPy’s genfromtxt() function.* "
   ]
  },
  {
   "cell_type": "code",
   "execution_count": 1,
   "id": "7750a5b1",
   "metadata": {},
   "outputs": [
    {
     "data": {
      "text/plain": [
       "array([['Name', 'Sex', 'Age'],\n",
       "       ['Grace', 'Male', '18'],\n",
       "       ['Charlie', 'Female', '60'],\n",
       "       ['Olivia', 'Female', '27'],\n",
       "       ['Frank', 'Male', '55']], dtype='<U7')"
      ]
     },
     "execution_count": 1,
     "metadata": {},
     "output_type": "execute_result"
    }
   ],
   "source": [
    "import numpy as np\n",
    "\n",
    "arr = np.genfromtxt(r\"Data\\names_age_sex_data.csv\", \n",
    "                    delimiter=\",\", dtype ='U7')\n",
    "arr[:5]"
   ]
  },
  {
   "cell_type": "markdown",
   "id": "e788c64b",
   "metadata": {},
   "source": [
    "*a.*\n",
    "\n",
    "*Transpose the array.* "
   ]
  },
  {
   "cell_type": "code",
   "execution_count": 2,
   "id": "b7995c7b",
   "metadata": {},
   "outputs": [
    {
     "data": {
      "text/plain": [
       "array([['Name', 'Grace', 'Charlie', 'Olivia', 'Frank', 'Charlie',\n",
       "        'Olivia', 'Mia', 'Jos', 'Peter', 'Olivia', 'Charlie', 'David',\n",
       "        'Kate', 'Thomas', 'Alice', 'Rob', 'Piper', 'Kate', 'Liam',\n",
       "        'Quinn', 'Charlie', 'David', 'Ryan', 'Kate', 'John', 'kelly'],\n",
       "       ['Sex', 'Male', 'Female', 'Female', 'Male', 'Male', 'Male',\n",
       "        'Female', 'Male', 'Male', 'Female', 'Female', 'Female', 'Female',\n",
       "        'Female', 'Female', 'Male', 'Female', 'Female', 'Female',\n",
       "        'Female', 'Male', 'Male', 'Female', 'Male', 'Male', 'Female'],\n",
       "       ['Age', '18', '60', '27', '55', '53', '39', '60', '56', '44',\n",
       "        '57', '41', '39', '49', '37', '63', '56', '96', '41', '19', '34',\n",
       "        '54', '18', '49', '19', '21', '21']], dtype='<U7')"
      ]
     },
     "execution_count": 2,
     "metadata": {},
     "output_type": "execute_result"
    }
   ],
   "source": [
    "transposed_arr = arr.transpose()\n",
    "transposed_arr"
   ]
  },
  {
   "cell_type": "markdown",
   "id": "b9cc3ae5",
   "metadata": {},
   "source": [
    "*b.*\n",
    "\n",
    "*Using slicing, create three arrays: an array of all the names column, an array of the age column, and an array of the gender (sex) column from the array.* "
   ]
  },
  {
   "cell_type": "code",
   "execution_count": 3,
   "id": "21ddad5e",
   "metadata": {},
   "outputs": [
    {
     "data": {
      "text/plain": [
       "array([['Grace', 'Charlie', 'Olivia', 'Frank', 'Charlie', 'Olivia',\n",
       "        'Mia', 'Jos', 'Peter', 'Olivia', 'Charlie', 'David', 'Kate',\n",
       "        'Thomas', 'Alice', 'Rob', 'Piper', 'Kate', 'Liam', 'Quinn',\n",
       "        'Charlie', 'David', 'Ryan', 'Kate', 'John', 'kelly']], dtype='<U7')"
      ]
     },
     "execution_count": 3,
     "metadata": {},
     "output_type": "execute_result"
    }
   ],
   "source": [
    "names = transposed_arr[0:1,1:]\n",
    "names"
   ]
  },
  {
   "cell_type": "code",
   "execution_count": 4,
   "id": "7e6b4a73",
   "metadata": {},
   "outputs": [
    {
     "data": {
      "text/plain": [
       "array([['18', '60', '27', '55', '53', '39', '60', '56', '44', '57', '41',\n",
       "        '39', '49', '37', '63', '56', '96', '41', '19', '34', '54', '18',\n",
       "        '49', '19', '21', '21']], dtype='<U7')"
      ]
     },
     "execution_count": 4,
     "metadata": {},
     "output_type": "execute_result"
    }
   ],
   "source": [
    "age = transposed_arr[2:3,1:]\n",
    "age"
   ]
  },
  {
   "cell_type": "code",
   "execution_count": 5,
   "id": "4a1145aa",
   "metadata": {},
   "outputs": [
    {
     "data": {
      "text/plain": [
       "array([['Male', 'Female', 'Female', 'Male', 'Male', 'Male', 'Female',\n",
       "        'Male', 'Male', 'Female', 'Female', 'Female', 'Female', 'Female',\n",
       "        'Female', 'Male', 'Female', 'Female', 'Female', 'Female', 'Male',\n",
       "        'Male', 'Female', 'Male', 'Male', 'Female']], dtype='<U7')"
      ]
     },
     "execution_count": 5,
     "metadata": {},
     "output_type": "execute_result"
    }
   ],
   "source": [
    "gender = transposed_arr[1:2,1:]\n",
    "gender"
   ]
  },
  {
   "cell_type": "markdown",
   "id": "d6065658",
   "metadata": {},
   "source": [
    "*2.*\n",
    "\n",
    "*Using NumPy, write a code that returns all names of people age 56.* "
   ]
  },
  {
   "cell_type": "code",
   "execution_count": 6,
   "id": "e9b7588f",
   "metadata": {},
   "outputs": [
    {
     "name": "stdout",
     "output_type": "stream",
     "text": [
      "['Jos' 'Rob']\n"
     ]
    }
   ],
   "source": [
    "aged_56 = names[age.astype(int) == 56]\n",
    "print(aged_56)"
   ]
  },
  {
   "cell_type": "markdown",
   "id": "942e4cc7",
   "metadata": {},
   "source": [
    "*3.*\n",
    "\n",
    "*How many people are age 44 or under?* "
   ]
  },
  {
   "cell_type": "code",
   "execution_count": 7,
   "id": "74998159",
   "metadata": {},
   "outputs": [
    {
     "name": "stdout",
     "output_type": "stream",
     "text": [
      "The number of people aged 44 and under is 14\n"
     ]
    }
   ],
   "source": [
    "aged_44_under = names[age.astype(int) <= 44]\n",
    "\n",
    "aged_44_under_num = np.shape(aged_44_under)\n",
    "print(\"The number of people aged 44 and under is\", \n",
    "      aged_44_under_num[0])"
   ]
  },
  {
   "cell_type": "markdown",
   "id": "f13c63b3",
   "metadata": {},
   "source": [
    "*4.*\n",
    "\n",
    "*Write another code to return an array of all the males in the table. How many males are in the table?* "
   ]
  },
  {
   "cell_type": "code",
   "execution_count": 8,
   "id": "ad585c9b",
   "metadata": {},
   "outputs": [
    {
     "name": "stdout",
     "output_type": "stream",
     "text": [
      "['Grace' 'Frank' 'Charlie' 'Olivia' 'Jos' 'Peter' 'Rob' 'Charlie' 'David'\n",
      " 'Kate' 'John']\n",
      "The number of males is: 11\n"
     ]
    }
   ],
   "source": [
    "males = names[gender =='Male']\n",
    "\n",
    "males_number_in_array = np.shape(males)\n",
    "print(males)\n",
    "print(\"The number of males is:\", males_number_in_array[0])"
   ]
  },
  {
   "cell_type": "markdown",
   "id": "59071367",
   "metadata": {},
   "source": [
    "*5.*\n",
    "\n",
    "*Calculate the average age of all the females in the table.* "
   ]
  },
  {
   "cell_type": "code",
   "execution_count": 9,
   "id": "da2a9bd7",
   "metadata": {},
   "outputs": [
    {
     "name": "stdout",
     "output_type": "stream",
     "text": [
      "The average females age is  46.2\n"
     ]
    }
   ],
   "source": [
    "age = age.astype(int)\n",
    "\n",
    "average_age = age[gender == 'Female'].mean()\n",
    "print(\"The average females age is \", average_age)"
   ]
  },
  {
   "cell_type": "markdown",
   "id": "6196bcdd",
   "metadata": {},
   "source": [
    "*6.*\n",
    "\n",
    "*Calculate the average age of the persons named Olivia and kate* "
   ]
  },
  {
   "cell_type": "code",
   "execution_count": 10,
   "id": "89b19216",
   "metadata": {},
   "outputs": [
    {
     "name": "stdout",
     "output_type": "stream",
     "text": [
      "Average age of persons named Olivia and Kate is: 38.67\n"
     ]
    }
   ],
   "source": [
    "olivia_age = age[names == 'Olivia']\n",
    "kate_age =  age[names == 'Kate']\n",
    "\n",
    "average = np.array([olivia_age, kate_age]).mean()\n",
    "print(f'Average age of persons named Olivia and Kate is: {average:.2f}')"
   ]
  }
 ],
 "metadata": {
  "kernelspec": {
   "display_name": "Python 3",
   "language": "python",
   "name": "python3"
  },
  "language_info": {
   "codemirror_mode": {
    "name": "ipython",
    "version": 3
   },
   "file_extension": ".py",
   "mimetype": "text/x-python",
   "name": "python",
   "nbconvert_exporter": "python",
   "pygments_lexer": "ipython3",
   "version": "3.11.1"
  }
 },
 "nbformat": 4,
 "nbformat_minor": 5
}

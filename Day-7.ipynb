{
 "cells": [
  {
   "cell_type": "markdown",
   "id": "7696fcb2",
   "metadata": {},
   "source": [
    "# **Day - 7 : Transpose and Swap Arrays**"
   ]
  },
  {
   "cell_type": "markdown",
   "id": "b024ed71",
   "metadata": {},
   "source": [
    "*1.*\n",
    "\n",
    "*Using  the  arange()  function,  create  an  array  of  numbers from 0 and 10. The shape of the array must be (2, 5).* "
   ]
  },
  {
   "cell_type": "code",
   "execution_count": 1,
   "id": "7d9152c2",
   "metadata": {},
   "outputs": [
    {
     "data": {
      "text/plain": [
       "array([[0, 1, 2, 3, 4],\n",
       "       [5, 6, 7, 8, 9]])"
      ]
     },
     "execution_count": 1,
     "metadata": {},
     "output_type": "execute_result"
    }
   ],
   "source": [
    "import numpy as np\n",
    "\n",
    "array1 = np.arange(0, 10).reshape(2, 5)\n",
    "array1"
   ]
  },
  {
   "cell_type": "markdown",
   "id": "a9da7b1d",
   "metadata": {},
   "source": [
    "*2.*\n",
    "\n",
    "*Write a code to change the shape of the array (question 1) to (5, 2). Create a new variable for this array. Now, add this array to the original array in question 1. The resulting array should have shapes (2, 5). Save this as a variable.* "
   ]
  },
  {
   "cell_type": "code",
   "execution_count": 2,
   "id": "e6e69580",
   "metadata": {},
   "outputs": [
    {
     "data": {
      "text/plain": [
       "array([[0, 1],\n",
       "       [2, 3],\n",
       "       [4, 5],\n",
       "       [6, 7],\n",
       "       [8, 9]])"
      ]
     },
     "execution_count": 2,
     "metadata": {},
     "output_type": "execute_result"
    }
   ],
   "source": [
    "array2 = array1.reshape(5, 2)\n",
    "array2"
   ]
  },
  {
   "cell_type": "code",
   "execution_count": 3,
   "id": "9afd8f76",
   "metadata": {},
   "outputs": [
    {
     "data": {
      "text/plain": [
       "array([[ 0,  3,  6,  9, 12],\n",
       "       [ 6,  9, 12, 15, 18]])"
      ]
     },
     "execution_count": 3,
     "metadata": {},
     "output_type": "execute_result"
    }
   ],
   "source": [
    "array3 = array2.transpose() + array1\n",
    "array3"
   ]
  },
  {
   "cell_type": "markdown",
   "id": "d380abef",
   "metadata": {},
   "source": [
    "*3.*\n",
    "\n",
    "*Swap the indexes of the array (question 2) using the swapaxis() method. Create a new variable for the swapped array.* "
   ]
  },
  {
   "cell_type": "code",
   "execution_count": 4,
   "id": "7c5ca757",
   "metadata": {},
   "outputs": [
    {
     "data": {
      "text/plain": [
       "array([[ 0,  6],\n",
       "       [ 3,  9],\n",
       "       [ 6, 12],\n",
       "       [ 9, 15],\n",
       "       [12, 18]])"
      ]
     },
     "execution_count": 4,
     "metadata": {},
     "output_type": "execute_result"
    }
   ],
   "source": [
    "swapped_array = np.swapaxes(array3, 0, 1)\n",
    "swapped_array"
   ]
  },
  {
   "cell_type": "markdown",
   "id": "aca14b7c",
   "metadata": {},
   "source": [
    "*4.*\n",
    "\n",
    "*Write  a  code  to  slice  row  1  from  the  swapped  array  in question 3* "
   ]
  },
  {
   "cell_type": "code",
   "execution_count": 5,
   "id": "7c3001ff",
   "metadata": {},
   "outputs": [
    {
     "data": {
      "text/plain": [
       "array([0, 6])"
      ]
     },
     "execution_count": 5,
     "metadata": {},
     "output_type": "execute_result"
    }
   ],
   "source": [
    "row_1 = swapped_array[0, :]\n",
    "row_1"
   ]
  },
  {
   "cell_type": "markdown",
   "id": "9a079415",
   "metadata": {},
   "source": [
    "*5.*\n",
    "\n",
    "*Each row in the \"goals\" list represents the goals scored by each player in the last 5 seasons. For example, Robin’s goals are [12, 15, 16, 15, 13] and he plays for \"Man UTD,\" and Leo's are [26, 30, 31, 25, 24] and he plays for \"Barca.\" Using NumPy, Seaborn, and Matplotlib, create a heatmap of the goals and alculate the gradient of the data. Annotate your heat map. The x-ticks will be the names of the players, and the y-ticks will be the teams of the players.* \n",
    "\n"
   ]
  },
  {
   "cell_type": "code",
   "execution_count": 8,
   "id": "71baa62b",
   "metadata": {},
   "outputs": [
    {
     "data": {
      "image/png": "[encoded data removed]",
      "text/plain": [
       "<Figure size 1200x800 with 1 Axes>"
      ]
     },
     "metadata": {},
     "output_type": "display_data"
    }
   ],
   "source": [
    "import matplotlib.pyplot as plt\n",
    "\n",
    "\n",
    "players = [\"Robin\", \"Leo\", \"Pogba\", \"Diego\", \"Ronaldo\"]\n",
    "teams =[\"Man UTD\", \"Barca\", \"Juve\", \"Napo\", \"RMadrid\"]\n",
    "\n",
    "goals =[[12, 15, 16, 15, 13],\n",
    "        [26, 30, 31, 25, 24], \n",
    "        [10, 12, 8, 6, 13],\n",
    "        [18, 19, 17, 20, 21], \n",
    "        [21, 32, 25, 21, 22]\n",
    "       ]\n",
    "\n",
    "# Creating array from list of goals\n",
    "array1 = np.array(goals)\n",
    "\n",
    "fig, ax = plt.subplots(figsize=(12,8))\n",
    "\n",
    "ax.set_xticks(np.arange(len(players)), labels=players)\n",
    "ax.set_yticks(np.arange(len(teams)), labels=teams)\n",
    "plt.title(\"Player Analysis Heatmap\", fontsize=20)\n",
    "plt.show()"
   ]
  },
  {
   "cell_type": "code",
   "execution_count": null,
   "id": "3475aea8",
   "metadata": {},
   "outputs": [],
   "source": []
  }
 ],
 "metadata": {
  "kernelspec": {
   "display_name": "Python 3",
   "language": "python",
   "name": "python3"
  },
  "language_info": {
   "codemirror_mode": {
    "name": "ipython",
    "version": 3
   },
   "file_extension": ".py",
   "mimetype": "text/x-python",
   "name": "python",
   "nbconvert_exporter": "python",
   "pygments_lexer": "ipython3",
   "version": "3.11.1"
  }
 },
 "nbformat": 4,
 "nbformat_minor": 5
}

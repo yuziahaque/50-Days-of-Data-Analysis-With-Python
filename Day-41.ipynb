{
 "cells": [
  {
   "cell_type": "markdown",
   "id": "77d4065f",
   "metadata": {},
   "source": [
    "# **Day - 41 : Population Data Analysis**"
   ]
  },
  {
   "cell_type": "markdown",
   "id": "b8dae01d",
   "metadata": {},
   "source": [
    "*1.*\n",
    "\n",
    "*Import the data set using pandas. View the first 5 columns. What is the data type of each column in the data set? What is the shape of the DataFrame?* "
   ]
  },
  {
   "cell_type": "code",
   "execution_count": 1,
   "id": "f07d2ba9",
   "metadata": {},
   "outputs": [
    {
     "data": {
      "text/html": [
       "<div>\n",
       "<style scoped>\n",
       "    .dataframe tbody tr th:only-of-type {\n",
       "        vertical-align: middle;\n",
       "    }\n",
       "\n",
       "    .dataframe tbody tr th {\n",
       "        vertical-align: top;\n",
       "    }\n",
       "\n",
       "    .dataframe thead th {\n",
       "        text-align: right;\n",
       "    }\n",
       "</style>\n",
       "<table border=\"1\" class=\"dataframe\">\n",
       "  <thead>\n",
       "    <tr style=\"text-align: right;\">\n",
       "      <th></th>\n",
       "      <th>Country</th>\n",
       "      <th>Population</th>\n",
       "      <th>Urban Population</th>\n",
       "      <th>Rural Population</th>\n",
       "    </tr>\n",
       "  </thead>\n",
       "  <tbody>\n",
       "    <tr>\n",
       "      <th>0</th>\n",
       "      <td>China</td>\n",
       "      <td>144616277</td>\n",
       "      <td>62233489.02</td>\n",
       "      <td>8.238279e+07</td>\n",
       "    </tr>\n",
       "    <tr>\n",
       "      <th>1</th>\n",
       "      <td>India</td>\n",
       "      <td>161802610</td>\n",
       "      <td>93703729.99</td>\n",
       "      <td>6.809888e+07</td>\n",
       "    </tr>\n",
       "    <tr>\n",
       "      <th>2</th>\n",
       "      <td>United States</td>\n",
       "      <td>199096104</td>\n",
       "      <td>89266811.49</td>\n",
       "      <td>1.098293e+08</td>\n",
       "    </tr>\n",
       "    <tr>\n",
       "      <th>3</th>\n",
       "      <td>Indonesia</td>\n",
       "      <td>192423285</td>\n",
       "      <td>58981078.45</td>\n",
       "      <td>1.334422e+08</td>\n",
       "    </tr>\n",
       "    <tr>\n",
       "      <th>4</th>\n",
       "      <td>Pakistan</td>\n",
       "      <td>122038765</td>\n",
       "      <td>78004077.98</td>\n",
       "      <td>4.403469e+07</td>\n",
       "    </tr>\n",
       "  </tbody>\n",
       "</table>\n",
       "</div>"
      ],
      "text/plain": [
       "         Country  Population  Urban Population  Rural Population\n",
       "0          China   144616277       62233489.02      8.238279e+07\n",
       "1          India   161802610       93703729.99      6.809888e+07\n",
       "2  United States   199096104       89266811.49      1.098293e+08\n",
       "3      Indonesia   192423285       58981078.45      1.334422e+08\n",
       "4       Pakistan   122038765       78004077.98      4.403469e+07"
      ]
     },
     "execution_count": 1,
     "metadata": {},
     "output_type": "execute_result"
    }
   ],
   "source": [
    "import pandas as pd\n",
    "\n",
    "df = pd.read_csv(\"Data/Population_data.csv\")\n",
    "df.head()"
   ]
  },
  {
   "cell_type": "code",
   "execution_count": 2,
   "id": "fa0824b7",
   "metadata": {},
   "outputs": [
    {
     "data": {
      "text/plain": [
       "Country              object\n",
       "Population            int64\n",
       "Urban Population    float64\n",
       "Rural Population    float64\n",
       "dtype: object"
      ]
     },
     "execution_count": 2,
     "metadata": {},
     "output_type": "execute_result"
    }
   ],
   "source": [
    "df.dtypes"
   ]
  },
  {
   "cell_type": "code",
   "execution_count": 3,
   "id": "49678d91",
   "metadata": {},
   "outputs": [
    {
     "data": {
      "text/plain": [
       "(20, 4)"
      ]
     },
     "execution_count": 3,
     "metadata": {},
     "output_type": "execute_result"
    }
   ],
   "source": [
    "df.shape"
   ]
  },
  {
   "cell_type": "markdown",
   "id": "1b179e02",
   "metadata": {},
   "source": [
    "*2.*\n",
    "\n",
    "*Are there any missing values in the dataset? If so, how many and in which columns?* "
   ]
  },
  {
   "cell_type": "code",
   "execution_count": 4,
   "id": "47d83a96",
   "metadata": {},
   "outputs": [
    {
     "data": {
      "text/plain": [
       "Country             0\n",
       "Population          0\n",
       "Urban Population    0\n",
       "Rural Population    0\n",
       "dtype: int64"
      ]
     },
     "execution_count": 4,
     "metadata": {},
     "output_type": "execute_result"
    }
   ],
   "source": [
    "df.isnull().sum()"
   ]
  },
  {
   "cell_type": "markdown",
   "id": "d8209b42",
   "metadata": {},
   "source": [
    "*3.*\n",
    "\n",
    "*Are there any duplicate rows in the \"Country\" column ?* "
   ]
  },
  {
   "cell_type": "code",
   "execution_count": 5,
   "id": "fbf15bbb",
   "metadata": {},
   "outputs": [
    {
     "data": {
      "text/plain": [
       "0"
      ]
     },
     "execution_count": 5,
     "metadata": {},
     "output_type": "execute_result"
    }
   ],
   "source": [
    "df.duplicated(subset=[\"Country\"]).sum()"
   ]
  },
  {
   "cell_type": "markdown",
   "id": "64a51b79",
   "metadata": {},
   "source": [
    "*4.*\n",
    "\n",
    "*How many unique countries are there in the \"Country\" column?* "
   ]
  },
  {
   "cell_type": "code",
   "execution_count": 6,
   "id": "c4c73b46",
   "metadata": {},
   "outputs": [
    {
     "name": "stdout",
     "output_type": "stream",
     "text": [
      "The number of unique countries is 20\n"
     ]
    }
   ],
   "source": [
    "print(f'The number of unique countries is {len(df.Country.unique())}')"
   ]
  },
  {
   "cell_type": "markdown",
   "id": "49e42b8a",
   "metadata": {},
   "source": [
    "*5.*\n",
    "\n",
    "*What is the range of the \"Population\" column values in the dataset?* "
   ]
  },
  {
   "cell_type": "code",
   "execution_count": 7,
   "id": "ba0624de",
   "metadata": {},
   "outputs": [
    {
     "name": "stdout",
     "output_type": "stream",
     "text": [
      "159,664,488\n"
     ]
    }
   ],
   "source": [
    "column_name = 'Population'\n",
    "\n",
    "column_range = df[column_name].max() - df[column_name].min()\n",
    "print(f'{column_range:,}')"
   ]
  },
  {
   "cell_type": "markdown",
   "id": "3769b7bb",
   "metadata": {},
   "source": [
    "*6.*\n",
    "\n",
    "*What is the mean and median of the population values in the dataset?* "
   ]
  },
  {
   "cell_type": "code",
   "execution_count": 8,
   "id": "1222947a",
   "metadata": {},
   "outputs": [
    {
     "name": "stdout",
     "output_type": "stream",
     "text": [
      "Median of data: 141,602,917.5\n"
     ]
    }
   ],
   "source": [
    "median = df[\"Population\"].median()\n",
    "print(f\"Median of data: {median:,}\")"
   ]
  },
  {
   "cell_type": "code",
   "execution_count": 9,
   "id": "0b18c0ce",
   "metadata": {},
   "outputs": [
    {
     "name": "stdout",
     "output_type": "stream",
     "text": [
      "Mean of the data:  127,368,421.75\n"
     ]
    }
   ],
   "source": [
    "mean = df[\"Population\"].mean()\n",
    "print(f\"Mean of the data:  {mean:,}\")"
   ]
  },
  {
   "cell_type": "markdown",
   "id": "3772ca47",
   "metadata": {},
   "source": [
    "*7.*\n",
    "\n",
    "*What is the total population of all the countries in the dataset?* "
   ]
  },
  {
   "cell_type": "code",
   "execution_count": 10,
   "id": "9b9f2933",
   "metadata": {},
   "outputs": [
    {
     "name": "stdout",
     "output_type": "stream",
     "text": [
      "Total population is: 2,547,368,435\n"
     ]
    }
   ],
   "source": [
    "total_population = df[\"Population\"].sum()\n",
    "print(f'Total population is: {total_population:,}')"
   ]
  },
  {
   "cell_type": "markdown",
   "id": "0d2f88ad",
   "metadata": {},
   "source": [
    "*8.*\n",
    "\n",
    "*What is the average population of all the countries?* "
   ]
  },
  {
   "cell_type": "code",
   "execution_count": 11,
   "id": "e2f7776f",
   "metadata": {},
   "outputs": [
    {
     "name": "stdout",
     "output_type": "stream",
     "text": [
      "Average population per country is: 127,368,421.75\n"
     ]
    }
   ],
   "source": [
    "ave_population =  (df[\"Population\"].sum())/len(df[\"Country\"])\n",
    "print(f'Average population per country is: {ave_population:,}')"
   ]
  },
  {
   "cell_type": "code",
   "execution_count": 12,
   "id": "895e2e79",
   "metadata": {},
   "outputs": [
    {
     "name": "stdout",
     "output_type": "stream",
     "text": [
      "Average population per country is: 127,368,421.75\n"
     ]
    }
   ],
   "source": [
    "ave_population =  df[\"Population\"].mean()\n",
    "print(f'Average population per country is: {ave_population:,}')"
   ]
  },
  {
   "cell_type": "markdown",
   "id": "3f6416fa",
   "metadata": {},
   "source": [
    "*9.*\n",
    "\n",
    "*What is the average urban population of all the countries?* "
   ]
  },
  {
   "cell_type": "code",
   "execution_count": 13,
   "id": "81ef5d65",
   "metadata": {},
   "outputs": [
    {
     "name": "stdout",
     "output_type": "stream",
     "text": [
      "Average urban population per country is : 56,629,809.43\n"
     ]
    }
   ],
   "source": [
    "ave_urb_population = (df[\"Urban Population\"].sum())/len(df[\"Country\"])\n",
    "print(f'Average urban population per country is : {ave_urb_population:,.2f}')"
   ]
  },
  {
   "cell_type": "code",
   "execution_count": 14,
   "id": "fbd0a619",
   "metadata": {},
   "outputs": [
    {
     "name": "stdout",
     "output_type": "stream",
     "text": [
      "56,629,809.43\n"
     ]
    }
   ],
   "source": [
    "print(f'{df[\"Urban Population\"].mean():,.2f}')"
   ]
  },
  {
   "cell_type": "markdown",
   "id": "ea02bcb6",
   "metadata": {},
   "source": [
    "*10.*\n",
    "\n",
    "*Which country has the biggest population?* "
   ]
  },
  {
   "cell_type": "code",
   "execution_count": 15,
   "id": "97a98afa",
   "metadata": {},
   "outputs": [
    {
     "name": "stdout",
     "output_type": "stream",
     "text": [
      "The country with the largest populations is: United States\n"
     ]
    }
   ],
   "source": [
    "max_index = df[\"Population\"].idxmax()\n",
    "\n",
    "max_population_country = df[\"Country\"][max_index]\n",
    "print(f'The country with the largest populations is: {max_population_country}')"
   ]
  },
  {
   "cell_type": "markdown",
   "id": "b7574bbc",
   "metadata": {},
   "source": [
    "*11*\n",
    "\n",
    "*Which country has the smallest urban population?* "
   ]
  },
  {
   "cell_type": "code",
   "execution_count": 16,
   "id": "a97ff99d",
   "metadata": {},
   "outputs": [
    {
     "name": "stdout",
     "output_type": "stream",
     "text": [
      "The country with the smallest urban populations is: Turkey\n"
     ]
    }
   ],
   "source": [
    "min_index = df[\"Urban Population\"].idxmin()\n",
    "\n",
    "min_urban_pop_country = df[\"Country\"][min_index]\n",
    "print(f'The country with the smallest urban populations is: {min_urban_pop_country}')"
   ]
  },
  {
   "cell_type": "markdown",
   "id": "53fb6b42",
   "metadata": {},
   "source": [
    "*12.*\n",
    "\n",
    "*Using Matplotlib, plot a hist plot of the population in the dataset. The number of bins for your plot must be 20. Your plot must have an xlabel, ylabel and title. Your plot title font size must be 20. Make your title bold.* "
   ]
  },
  {
   "cell_type": "code",
   "execution_count": 17,
   "id": "e0804247",
   "metadata": {},
   "outputs": [
    {
     "data": {
      "image/png": "[encoded data removed]",
      "text/plain": [
       "<Figure size 1500x1000 with 1 Axes>"
      ]
     },
     "metadata": {},
     "output_type": "display_data"
    }
   ],
   "source": [
    "import matplotlib.pyplot as plt\n",
    "\n",
    "plt.subplots(figsize=(15,10))\n",
    "\n",
    "plt.hist(df['Population'], \n",
    "         bins=10, \n",
    "         density=1, \n",
    "         alpha = 0.7,\n",
    "        edgecolor=None)\n",
    "\n",
    "plt.xlabel('Population')\n",
    "plt.ylabel('Frequency')\n",
    "plt.title('Population Dist',fontsize=20, \n",
    "          fontweight= \"bold\")\n",
    "plt.show()"
   ]
  }
 ],
 "metadata": {
  "kernelspec": {
   "display_name": "Python 3",
   "language": "python",
   "name": "python3"
  },
  "language_info": {
   "codemirror_mode": {
    "name": "ipython",
    "version": 3
   },
   "file_extension": ".py",
   "mimetype": "text/x-python",
   "name": "python",
   "nbconvert_exporter": "python",
   "pygments_lexer": "ipython3",
   "version": "3.11.1"
  }
 },
 "nbformat": 4,
 "nbformat_minor": 5
}

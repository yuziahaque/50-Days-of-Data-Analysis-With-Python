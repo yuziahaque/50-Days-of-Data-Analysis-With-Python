{
 "cells": [
  {
   "cell_type": "markdown",
   "id": "17e79ed3",
   "metadata": {},
   "source": [
    "# **Day - 3 : Generating Random Arrays**"
   ]
  },
  {
   "cell_type": "markdown",
   "id": "0617036c",
   "metadata": {},
   "source": [
    "#### **Goal : to generate an array with some random numbers using NumPy, and create some visualizations using Matplotlib.**"
   ]
  },
  {
   "cell_type": "markdown",
   "id": "35ae187b",
   "metadata": {},
   "source": [
    "*1.*\n",
    "\n",
    "*Using NumPy create an array of random numbers between 0 and 1. The shape of the array must be (3, 4).* \n",
    "\n",
    "*Use seed to ensure that the results are reproducible.*"
   ]
  },
  {
   "cell_type": "code",
   "execution_count": 1,
   "id": "08413c3e",
   "metadata": {},
   "outputs": [],
   "source": [
    "import numpy as np "
   ]
  },
  {
   "cell_type": "code",
   "execution_count": 3,
   "id": "98d07022",
   "metadata": {},
   "outputs": [
    {
     "data": {
      "text/plain": [
       "array([[0.1285702 , 0.49927786, 0.60149836, 0.02868901],\n",
       "       [0.14792608, 0.92821102, 0.07042058, 0.12977395],\n",
       "       [0.94832845, 0.62188359, 0.36899312, 0.51139002]])"
      ]
     },
     "execution_count": 3,
     "metadata": {},
     "output_type": "execute_result"
    }
   ],
   "source": [
    "randomnum=np.random.default_rng(seed = 11)\n",
    "arr1 = randomnum.random((3,4))\n",
    "arr1"
   ]
  },
  {
   "cell_type": "markdown",
   "id": "9ef3a0b4",
   "metadata": {},
   "source": [
    "*2.* \n",
    "\n",
    "*Create an array of random integers between 0 and 10. The shape of the array must be (3, 4).*"
   ]
  },
  {
   "cell_type": "code",
   "execution_count": 4,
   "id": "42c6e340",
   "metadata": {},
   "outputs": [
    {
     "data": {
      "text/plain": [
       "array([[4, 0, 9, 3],\n",
       "       [6, 2, 7, 0],\n",
       "       [5, 5, 2, 3]], dtype=int64)"
      ]
     },
     "execution_count": 4,
     "metadata": {},
     "output_type": "execute_result"
    }
   ],
   "source": [
    "randomnum=np.random.default_rng()\n",
    "arr2=randomnum.integers(low=0, high=10, size=(3, 4))\n",
    "arr2"
   ]
  },
  {
   "cell_type": "markdown",
   "id": "badfceb2",
   "metadata": {},
   "source": [
    "*3.* \n",
    "\n",
    "*Using NumPy, generate an array of 1000 random numbers from a standard normal distribution with a mean of 0 and a variance of 1.*\n",
    "\n",
    "*Create a histogram with this array. Use the seed parameter to ensure the results are reproducible*"
   ]
  },
  {
   "cell_type": "code",
   "execution_count": 6,
   "id": "a7a850bb",
   "metadata": {},
   "outputs": [],
   "source": [
    "import matplotlib.pyplot as plt"
   ]
  },
  {
   "cell_type": "code",
   "execution_count": 9,
   "id": "79afe396",
   "metadata": {},
   "outputs": [],
   "source": [
    "randomnum=np.random.default_rng(seed=24)\n",
    "arr3= randomnum.standard_normal(size=1000)"
   ]
  },
  {
   "cell_type": "code",
   "execution_count": 13,
   "id": "618f72cb",
   "metadata": {},
   "outputs": [
    {
     "data": {
      "image/png": "[encoded data removed]",
      "text/plain": [
       "<Figure size 640x480 with 1 Axes>"
      ]
     },
     "metadata": {},
     "output_type": "display_data"
    }
   ],
   "source": [
    "plt.hist(arr3, bins=60, color=\"pink\")\n",
    "plt.title('Histogram of Array 3')\n",
    "plt.show()"
   ]
  },
  {
   "cell_type": "markdown",
   "id": "dd215baf",
   "metadata": {},
   "source": [
    "*4.* \n",
    "\n",
    "*arr = [ \"Orange\", \"Apple\", \"Pear\"]*\n",
    "\n",
    "*Using random.choice() from NumPy, generate an array from the list above. The shape of the array must be (3, 4)*"
   ]
  },
  {
   "cell_type": "code",
   "execution_count": 16,
   "id": "013f453d",
   "metadata": {},
   "outputs": [
    {
     "data": {
      "text/plain": [
       "array([['Orange', 'Orange', 'Pear', 'Apple'],\n",
       "       ['Apple', 'Apple', 'Pear', 'Orange'],\n",
       "       ['Apple', 'Orange', 'Apple', 'Pear']], dtype='<U6')"
      ]
     },
     "execution_count": 16,
     "metadata": {},
     "output_type": "execute_result"
    }
   ],
   "source": [
    "arr = [ \"Orange\", \"Apple\", \"Pear\"]\n",
    "randomnum=np.random.default_rng(seed=11)\n",
    "arr4=randomnum.choice(arr, size=(3,4))\n",
    "\n",
    "arr4"
   ]
  }
 ],
 "metadata": {
  "kernelspec": {
   "display_name": "Python 3",
   "language": "python",
   "name": "python3"
  },
  "language_info": {
   "codemirror_mode": {
    "name": "ipython",
    "version": 3
   },
   "file_extension": ".py",
   "mimetype": "text/x-python",
   "name": "python",
   "nbconvert_exporter": "python",
   "pygments_lexer": "ipython3",
   "version": "3.11.1"
  }
 },
 "nbformat": 4,
 "nbformat_minor": 5
}

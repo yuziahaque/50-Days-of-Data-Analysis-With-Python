{
 "cells": [
  {
   "cell_type": "markdown",
   "id": "a915290d",
   "metadata": {},
   "source": [
    "# **Day - 13 : Slicing and Analyzing Arrays**"
   ]
  },
  {
   "cell_type": "markdown",
   "id": "59b874ad",
   "metadata": {},
   "source": [
    "*1.*\n",
    "\n",
    "*Using the data above, create an array and transpose it. The creating of an array and transposition should be combined into one code. The code should return a transposed array.* "
   ]
  },
  {
   "cell_type": "code",
   "execution_count": 9,
   "id": "0ff5c54a",
   "metadata": {},
   "outputs": [
    {
     "data": {
      "text/plain": [
       "array([['John', '21', 'm'],\n",
       "       ['Kelly', '21', 'f'],\n",
       "       ['Jos', '56', 'm'],\n",
       "       ['Peter', '44', 'm'],\n",
       "       ['Robert', '56', 'm'],\n",
       "       ['Piper', '96', 'f']], dtype='<U11')"
      ]
     },
     "execution_count": 9,
     "metadata": {},
     "output_type": "execute_result"
    }
   ],
   "source": [
    "import numpy as np\n",
    "\n",
    "names = [\"John\", \"Kelly\", \"Jos\", \"Peter\", \"Robert\", \"Piper\"]\n",
    "age = [21, 21, 56, 44, 56, 96]\n",
    "gender = ['m', 'f', 'm', 'm', 'm', 'f']\n",
    "\n",
    "array1= np.array([names, age, gender]).transpose()\n",
    "array1"
   ]
  },
  {
   "cell_type": "code",
   "execution_count": 10,
   "id": "b238e443",
   "metadata": {},
   "outputs": [
    {
     "data": {
      "text/plain": [
       "array([['John', '21', 'm'],\n",
       "       ['Kelly', '21', 'f'],\n",
       "       ['Jos', '56', 'm'],\n",
       "       ['Peter', '44', 'm'],\n",
       "       ['Robert', '56', 'm'],\n",
       "       ['Piper', '96', 'f']], dtype='<U11')"
      ]
     },
     "execution_count": 10,
     "metadata": {},
     "output_type": "execute_result"
    }
   ],
   "source": [
    "names = [\"John\", \"Kelly\", \"Jos\", \"Peter\", \"Robert\", \"Piper\"]\n",
    "age = [21, 21, 56, 44, 56, 96]\n",
    "gender = ['m', 'f', 'm', 'm', 'm', 'f']\n",
    "\n",
    "array1= np.array([names, age, gender]).T\n",
    "array1"
   ]
  },
  {
   "cell_type": "markdown",
   "id": "bbfe9ac5",
   "metadata": {},
   "source": [
    "*2.*\n",
    "\n",
    "*Using slicing or indexing, write a code to return the last row of the transposed array (question 1)* "
   ]
  },
  {
   "cell_type": "code",
   "execution_count": 11,
   "id": "45935527",
   "metadata": {},
   "outputs": [
    {
     "data": {
      "text/plain": [
       "array(['Piper', '96', 'f'], dtype='<U11')"
      ]
     },
     "execution_count": 11,
     "metadata": {},
     "output_type": "execute_result"
    }
   ],
   "source": [
    "last_row_array = array1[-1]\n",
    "last_row_array"
   ]
  },
  {
   "cell_type": "markdown",
   "id": "6b0f4683",
   "metadata": {},
   "source": [
    "*3.*\n",
    "\n",
    "*Using slicing or indexing, write a code to return the first two rows of the transposed array (question 1)..* "
   ]
  },
  {
   "cell_type": "code",
   "execution_count": 12,
   "id": "e3500e0f",
   "metadata": {},
   "outputs": [
    {
     "data": {
      "text/plain": [
       "array([['John', '21', 'm'],\n",
       "       ['Kelly', '21', 'f']], dtype='<U11')"
      ]
     },
     "execution_count": 12,
     "metadata": {},
     "output_type": "execute_result"
    }
   ],
   "source": [
    "slice_two_rows = array1[:2]\n",
    "slice_two_rows"
   ]
  },
  {
   "cell_type": "markdown",
   "id": "42426261",
   "metadata": {},
   "source": [
    "*4.*\n",
    "\n",
    "*Using slicing, write a code that returns the age of Peter. Return Peter’s age as an integer data type.* "
   ]
  },
  {
   "cell_type": "code",
   "execution_count": 13,
   "id": "bf6b8b24",
   "metadata": {},
   "outputs": [
    {
     "name": "stdout",
     "output_type": "stream",
     "text": [
      "Peter is 44 yrs old\n"
     ]
    }
   ],
   "source": [
    "peter_age = int(array1[3,1])\n",
    "print(f'Peter is {peter_age} yrs old')"
   ]
  },
  {
   "cell_type": "markdown",
   "id": "848dda41",
   "metadata": {},
   "source": [
    "*5.*\n",
    "\n",
    "*Write code to return an array of Kelly's age and gender using slicing (from transposed array in question 1).* "
   ]
  },
  {
   "cell_type": "code",
   "execution_count": 14,
   "id": "075e7051",
   "metadata": {},
   "outputs": [
    {
     "data": {
      "text/plain": [
       "array(['21', 'f'], dtype='<U11')"
      ]
     },
     "execution_count": 14,
     "metadata": {},
     "output_type": "execute_result"
    }
   ],
   "source": [
    "kelly_age_gender = array1[1, 1:3]\n",
    "kelly_age_gender"
   ]
  },
  {
   "cell_type": "markdown",
   "id": "7a4c54dc",
   "metadata": {},
   "source": [
    "*6.*\n",
    "\n",
    "*One of the uses of slicing is for Data visualization: Slicing is often used in data visualization to extract specific portions of a dataset for plotting. Write a code to create a subarray of the ages(only ages) in the transposed array using slicing. Using Matplotlib, plot a histogram of the age array. Your graph we should have xlabel, ylabel and a title.* "
   ]
  },
  {
   "cell_type": "code",
   "execution_count": 15,
   "id": "a05c8495",
   "metadata": {},
   "outputs": [
    {
     "data": {
      "text/plain": [
       "array(['21', '21', '56', '44', '56', '96'], dtype='<U11')"
      ]
     },
     "execution_count": 15,
     "metadata": {},
     "output_type": "execute_result"
    }
   ],
   "source": [
    "age_array = array1[:,1]\n",
    "age_array"
   ]
  },
  {
   "cell_type": "code",
   "execution_count": 16,
   "id": "3792d02e",
   "metadata": {},
   "outputs": [
    {
     "data": {
      "image/png": "[encoded data removed]",
      "text/plain": [
       "<Figure size 1200x800 with 1 Axes>"
      ]
     },
     "metadata": {},
     "output_type": "display_data"
    }
   ],
   "source": [
    "import matplotlib.pyplot as plt\n",
    "\n",
    "plt.figure(figsize=(12, 8))\n",
    "plt.hist(age_array, rwidth = 2.9, bins= 10)\n",
    "plt.xlabel(\"age\")\n",
    "plt.ylabel(\"Frequency\")\n",
    "plt.title(\"Age Distribution\", fontsize= 20)\n",
    "plt.show()"
   ]
  },
  {
   "cell_type": "code",
   "execution_count": null,
   "id": "c02a05b7",
   "metadata": {},
   "outputs": [],
   "source": []
  }
 ],
 "metadata": {
  "kernelspec": {
   "display_name": "Python 3",
   "language": "python",
   "name": "python3"
  },
  "language_info": {
   "codemirror_mode": {
    "name": "ipython",
    "version": 3
   },
   "file_extension": ".py",
   "mimetype": "text/x-python",
   "name": "python",
   "nbconvert_exporter": "python",
   "pygments_lexer": "ipython3",
   "version": "3.11.1"
  }
 },
 "nbformat": 4,
 "nbformat_minor": 5
}

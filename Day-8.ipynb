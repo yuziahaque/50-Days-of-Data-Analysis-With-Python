{
 "cells": [
  {
   "cell_type": "markdown",
   "id": "b9e1765b",
   "metadata": {},
   "source": [
    "# **Day - 8 : Slicing NumPy Arrays**"
   ]
  },
  {
   "cell_type": "markdown",
   "id": "e219f540",
   "metadata": {},
   "source": [
    "*1.*\n",
    "\n",
    "*Create a one-dimensional array with random integers between 0 and 20. The size of the array is 10. Ensure that the results are reproducible.* "
   ]
  },
  {
   "cell_type": "code",
   "execution_count": 12,
   "id": "394e7588",
   "metadata": {},
   "outputs": [
    {
     "data": {
      "text/plain": [
       "array([ 1, 16, 13,  9,  9, 18,  1, 14,  4,  1], dtype=int64)"
      ]
     },
     "execution_count": 12,
     "metadata": {},
     "output_type": "execute_result"
    }
   ],
   "source": [
    "import numpy as np\n",
    "\n",
    "rng = np.random.default_rng(seed=42)\n",
    "array1 = rng.integers(21, size=10)\n",
    "array1"
   ]
  },
  {
   "cell_type": "markdown",
   "id": "4f2f4566",
   "metadata": {},
   "source": [
    "*2.*\n",
    "\n",
    "*Using slicing, create a subset array of 3 integers from the array you created in question 1. The first integer is at index 2, the second integer is at index 4, and the third index i at index 7.* "
   ]
  },
  {
   "cell_type": "code",
   "execution_count": 3,
   "id": "2a9510db",
   "metadata": {},
   "outputs": [
    {
     "name": "stdout",
     "output_type": "stream",
     "text": [
      "[13  9 14]\n"
     ]
    }
   ],
   "source": [
    "subset_array = array1[[2, 4, 7]]\n",
    "print(subset_array)"
   ]
  },
  {
   "cell_type": "markdown",
   "id": "23a9c7d9",
   "metadata": {},
   "source": [
    "*3.*\n",
    "\n",
    "*Create a two-dimensional array from the list below. Check the dimensions and shape of your array.* \n",
    "\n",
    "*Using slicing, write a code to access the numbers 3, 8, and 13. Your code should return [3, 8, 13].*"
   ]
  },
  {
   "cell_type": "code",
   "execution_count": 5,
   "id": "81ba578a",
   "metadata": {},
   "outputs": [
    {
     "data": {
      "text/plain": [
       "array([[ 1,  2,  3,  4,  5],\n",
       "       [ 6,  7,  8,  9, 10],\n",
       "       [11, 12, 13, 14, 15]])"
      ]
     },
     "execution_count": 5,
     "metadata": {},
     "output_type": "execute_result"
    }
   ],
   "source": [
    "my_list = [[1, 2, 3, 4, 5], [6, 7, 8, 9, 10], [11, 12, 13, 14, 15]]\n",
    "\n",
    "array2 = np.array(my_list)\n",
    "array2"
   ]
  },
  {
   "cell_type": "code",
   "execution_count": 6,
   "id": "05457395",
   "metadata": {},
   "outputs": [
    {
     "data": {
      "text/plain": [
       "2"
      ]
     },
     "execution_count": 6,
     "metadata": {},
     "output_type": "execute_result"
    }
   ],
   "source": [
    "array2.ndim"
   ]
  },
  {
   "cell_type": "code",
   "execution_count": 7,
   "id": "416c4f8c",
   "metadata": {},
   "outputs": [
    {
     "data": {
      "text/plain": [
       "(3, 5)"
      ]
     },
     "execution_count": 7,
     "metadata": {},
     "output_type": "execute_result"
    }
   ],
   "source": [
    "array2.shape"
   ]
  },
  {
   "cell_type": "code",
   "execution_count": 8,
   "id": "4b12fba6",
   "metadata": {},
   "outputs": [
    {
     "name": "stdout",
     "output_type": "stream",
     "text": [
      "[ 3  8 13]\n"
     ]
    }
   ],
   "source": [
    "sub_array = array2[0, 2], array2[1, 2], array2[2,2]\n",
    "print(np.array(sub_array))"
   ]
  },
  {
   "cell_type": "code",
   "execution_count": 10,
   "id": "f0ca1cad",
   "metadata": {},
   "outputs": [
    {
     "name": "stdout",
     "output_type": "stream",
     "text": [
      "[ 3  8 13]\n"
     ]
    }
   ],
   "source": [
    "my_list = [[1, 2, 3, 4, 5], [6, 7, 8, 9, 10], [11, 12, 13, 14, 15]]\n",
    "\n",
    "array2 = np.array(my_list)\n",
    "\n",
    "sub_array = array2[0, 2], array2[1, 2], array2[2,2]\n",
    "print(np.array(sub_array))\n"
   ]
  },
  {
   "cell_type": "markdown",
   "id": "41888699",
   "metadata": {},
   "source": [
    "# **Day - 4 : NumPy Arrays and Vector Operations**"
   ]
  },
  {
   "cell_type": "markdown",
   "id": "1f82f8c5",
   "metadata": {},
   "source": [
    "*4.*\n",
    "\n",
    "*Using  slicing,  write  code  that  creates  a  sublist  from  the array  you  created.  Your  code  should  return  an  array  of numbers (4, 8, and 15).*"
   ]
  },
  {
   "cell_type": "code",
   "execution_count": 11,
   "id": "3b2401c4",
   "metadata": {},
   "outputs": [
    {
     "data": {
      "text/plain": [
       "array([ 4,  8, 15])"
      ]
     },
     "execution_count": 11,
     "metadata": {},
     "output_type": "execute_result"
    }
   ],
   "source": [
    "my_list = [[[1, 2, 3, 4, 5], [6, 7, 8, 9, 10], [11, 12, 13, 14, 15]]]\n",
    "\n",
    "array3 = np.array(my_list)\n",
    "\n",
    "sub_list = array3[0,0,3], array3[0,1,2], array3[0,2,4]\n",
    "np.array(sub_list)"
   ]
  }
 ],
 "metadata": {
  "kernelspec": {
   "display_name": "Python 3",
   "language": "python",
   "name": "python3"
  },
  "language_info": {
   "codemirror_mode": {
    "name": "ipython",
    "version": 3
   },
   "file_extension": ".py",
   "mimetype": "text/x-python",
   "name": "python",
   "nbconvert_exporter": "python",
   "pygments_lexer": "ipython3",
   "version": "3.11.1"
  }
 },
 "nbformat": 4,
 "nbformat_minor": 5
}

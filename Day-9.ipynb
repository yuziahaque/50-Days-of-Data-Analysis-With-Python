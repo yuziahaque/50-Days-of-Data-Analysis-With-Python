{
 "cells": [
  {
   "cell_type": "markdown",
   "id": "d936ec18",
   "metadata": {},
   "source": [
    "# **Day - 9 : Analyze a One-Dimensional Array**"
   ]
  },
  {
   "cell_type": "markdown",
   "id": "35e7e3c2",
   "metadata": {},
   "source": [
    "*1.*\n",
    "\n",
    "*Create a NumPy one-dimensional array with the list above.* "
   ]
  },
  {
   "cell_type": "code",
   "execution_count": 1,
   "id": "e6cc2799",
   "metadata": {},
   "outputs": [
    {
     "data": {
      "text/plain": [
       "array([12,  4,  6,  7,  9, 19, 21, 67,  8])"
      ]
     },
     "execution_count": 1,
     "metadata": {},
     "output_type": "execute_result"
    }
   ],
   "source": [
    "import numpy as np\n",
    "\n",
    "nums = [12, 4, 6, 7, 9, 19, 21, 67, 8]\n",
    "nums_array = np.array(nums)\n",
    "nums_array"
   ]
  },
  {
   "cell_type": "markdown",
   "id": "8e422133",
   "metadata": {},
   "source": [
    "*2.*\n",
    "\n",
    "*Using NumPy, write a code that returns the minimum number in the array.* "
   ]
  },
  {
   "cell_type": "code",
   "execution_count": 2,
   "id": "ce02f744",
   "metadata": {},
   "outputs": [
    {
     "name": "stdout",
     "output_type": "stream",
     "text": [
      "The minimum of the array is 4\n"
     ]
    }
   ],
   "source": [
    "min_number = np.min(nums_array)\n",
    "print('The minimum of the array is', min_number)"
   ]
  },
  {
   "cell_type": "markdown",
   "id": "a57a9a32",
   "metadata": {},
   "source": [
    "*3.*\n",
    "\n",
    "*Write a code that returns the index of the largest number in the array.* "
   ]
  },
  {
   "cell_type": "code",
   "execution_count": 4,
   "id": "37698042",
   "metadata": {},
   "outputs": [
    {
     "name": "stdout",
     "output_type": "stream",
     "text": [
      "The index of the largest number is 7\n"
     ]
    }
   ],
   "source": [
    "nums = [12, 4, 6, 7, 9, 19, 21, 67, 8]\n",
    "nums_array = np.array(nums)\n",
    "\n",
    "max_index = np.argmax(nums_array)\n",
    "print(f'The index of the largest number is {max_index}')"
   ]
  },
  {
   "cell_type": "markdown",
   "id": "56f52619",
   "metadata": {},
   "source": [
    "*4.*\n",
    "\n",
    "*Using  NumPy,  calculate  the  average  of  the  biggest  and smallest numbers in the array.* "
   ]
  },
  {
   "cell_type": "code",
   "execution_count": 5,
   "id": "713203dc",
   "metadata": {},
   "outputs": [
    {
     "name": "stdout",
     "output_type": "stream",
     "text": [
      "The average of the min and max is 35.5\n"
     ]
    }
   ],
   "source": [
    "nums = [12, 4, 6, 7, 9, 19, 21, 67, 8]\n",
    "nums_array = np.array(nums)\n",
    "\n",
    "min_num = np.min(nums_array)\n",
    "max_num = np.max(nums_array)\n",
    "average = np.array([min_num, max_num]).mean()\n",
    "print('The average of the min and max is', average)"
   ]
  },
  {
   "cell_type": "markdown",
   "id": "87f3476e",
   "metadata": {},
   "source": [
    "*5.*\n",
    "\n",
    "*Write a code to find the mean, median and std of the array* "
   ]
  },
  {
   "cell_type": "code",
   "execution_count": 6,
   "id": "76d32e99",
   "metadata": {},
   "outputs": [
    {
     "name": "stdout",
     "output_type": "stream",
     "text": [
      "Mean:  17.0\n",
      "Median:  9.0\n",
      "Standard deviation:  18.499249234015476\n"
     ]
    }
   ],
   "source": [
    "mean = np.mean(nums_array)\n",
    "median = np.median(nums_array)\n",
    "std = np.std(nums_array)\n",
    "\n",
    "print(\"Mean: \", mean)\n",
    "print(\"Median: \", median)\n",
    "print(\"Standard deviation: \", std)"
   ]
  },
  {
   "cell_type": "markdown",
   "id": "d178b132",
   "metadata": {},
   "source": [
    "*6.*\n",
    "\n",
    "*Write code to find the outlier in the array above* "
   ]
  },
  {
   "cell_type": "code",
   "execution_count": 7,
   "id": "26a4dc9e",
   "metadata": {},
   "outputs": [
    {
     "data": {
      "text/plain": [
       "[67]"
      ]
     },
     "execution_count": 7,
     "metadata": {},
     "output_type": "execute_result"
    }
   ],
   "source": [
    "sorted_array = np.sort(nums_array)\n",
    "\n",
    "def calculate_outlier(array):\n",
    "    q1 = np.percentile(sorted_array, 25)\n",
    "    q3 = np.percentile(sorted_array, 75)\n",
    "    iqr = q3 - q1\n",
    "    lower_bound = q1 - 1.5 * iqr\n",
    "    upper_bound = q3 + 1.5 * iqr\n",
    "    outliers = [x for x in sorted_array if x < lower_bound or x > upper_bound]\n",
    "    return outliers\n",
    "\n",
    "calculate_outlier(sorted_array)"
   ]
  }
 ],
 "metadata": {
  "kernelspec": {
   "display_name": "Python 3",
   "language": "python",
   "name": "python3"
  },
  "language_info": {
   "codemirror_mode": {
    "name": "ipython",
    "version": 3
   },
   "file_extension": ".py",
   "mimetype": "text/x-python",
   "name": "python",
   "nbconvert_exporter": "python",
   "pygments_lexer": "ipython3",
   "version": "3.11.1"
  }
 },
 "nbformat": 4,
 "nbformat_minor": 5
}

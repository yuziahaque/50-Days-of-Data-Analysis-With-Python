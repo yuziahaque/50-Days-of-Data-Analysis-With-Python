{
 "cells": [
  {
   "cell_type": "markdown",
   "id": "8c8edbea",
   "metadata": {},
   "source": [
    "# **Day - 29 :  Car Service Data Analysis**"
   ]
  },
  {
   "cell_type": "markdown",
   "id": "f04435c3",
   "metadata": {},
   "source": [
    "*1.*\n",
    "\n",
    "*Import the car_service_data CSV file. Write a code to return all the column names in the DataFrame. Check the data types of the DataFrame.* "
   ]
  },
  {
   "cell_type": "code",
   "execution_count": 1,
   "id": "0be28a58",
   "metadata": {},
   "outputs": [
    {
     "data": {
      "text/html": [
       "<div>\n",
       "<style scoped>\n",
       "    .dataframe tbody tr th:only-of-type {\n",
       "        vertical-align: middle;\n",
       "    }\n",
       "\n",
       "    .dataframe tbody tr th {\n",
       "        vertical-align: top;\n",
       "    }\n",
       "\n",
       "    .dataframe thead th {\n",
       "        text-align: right;\n",
       "    }\n",
       "</style>\n",
       "<table border=\"1\" class=\"dataframe\">\n",
       "  <thead>\n",
       "    <tr style=\"text-align: right;\">\n",
       "      <th></th>\n",
       "      <th>Service ID</th>\n",
       "      <th>Service Type</th>\n",
       "      <th>Service Cost</th>\n",
       "      <th>Service Revenue</th>\n",
       "      <th>Number of Customers</th>\n",
       "      <th>Advertising Cost</th>\n",
       "      <th>Location</th>\n",
       "    </tr>\n",
       "  </thead>\n",
       "  <tbody>\n",
       "    <tr>\n",
       "      <th>0</th>\n",
       "      <td>1</td>\n",
       "      <td>Oil Change</td>\n",
       "      <td>$25</td>\n",
       "      <td>$50</td>\n",
       "      <td>10</td>\n",
       "      <td>$100</td>\n",
       "      <td>Urban</td>\n",
       "    </tr>\n",
       "    <tr>\n",
       "      <th>1</th>\n",
       "      <td>2</td>\n",
       "      <td>Brake Repair</td>\n",
       "      <td>$200</td>\n",
       "      <td>$500</td>\n",
       "      <td>5</td>\n",
       "      <td>$50</td>\n",
       "      <td>Suburban</td>\n",
       "    </tr>\n",
       "    <tr>\n",
       "      <th>2</th>\n",
       "      <td>3</td>\n",
       "      <td>Tire Rotation</td>\n",
       "      <td>$30</td>\n",
       "      <td>$75</td>\n",
       "      <td>12</td>\n",
       "      <td>$150</td>\n",
       "      <td>Rural</td>\n",
       "    </tr>\n",
       "    <tr>\n",
       "      <th>3</th>\n",
       "      <td>4</td>\n",
       "      <td>Transmission Repair</td>\n",
       "      <td>$1000</td>\n",
       "      <td>$2500</td>\n",
       "      <td>2</td>\n",
       "      <td>$200</td>\n",
       "      <td>Urban</td>\n",
       "    </tr>\n",
       "    <tr>\n",
       "      <th>4</th>\n",
       "      <td>5</td>\n",
       "      <td>Battery Replacement</td>\n",
       "      <td>$150</td>\n",
       "      <td>$300</td>\n",
       "      <td>8</td>\n",
       "      <td>$75</td>\n",
       "      <td>Suburban</td>\n",
       "    </tr>\n",
       "  </tbody>\n",
       "</table>\n",
       "</div>"
      ],
      "text/plain": [
       "   Service ID         Service Type Service Cost Service Revenue  \\\n",
       "0           1           Oil Change          $25             $50   \n",
       "1           2         Brake Repair         $200            $500   \n",
       "2           3        Tire Rotation          $30             $75   \n",
       "3           4  Transmission Repair        $1000           $2500   \n",
       "4           5  Battery Replacement         $150            $300   \n",
       "\n",
       "   Number of Customers Advertising Cost  Location  \n",
       "0                   10             $100     Urban  \n",
       "1                    5              $50  Suburban  \n",
       "2                   12             $150     Rural  \n",
       "3                    2             $200     Urban  \n",
       "4                    8              $75  Suburban  "
      ]
     },
     "execution_count": 1,
     "metadata": {},
     "output_type": "execute_result"
    }
   ],
   "source": [
    "import pandas as pd\n",
    "\n",
    "df = pd.read_csv(\"Data/car_service_data.csv\")\n",
    "df.head()"
   ]
  },
  {
   "cell_type": "code",
   "execution_count": 2,
   "id": "5efc71cf",
   "metadata": {},
   "outputs": [
    {
     "data": {
      "text/plain": [
       "Index(['Service ID', 'Service Type', 'Service Cost', 'Service Revenue',\n",
       "       'Number of Customers', 'Advertising Cost', 'Location'],\n",
       "      dtype='object')"
      ]
     },
     "execution_count": 2,
     "metadata": {},
     "output_type": "execute_result"
    }
   ],
   "source": [
    "df.columns"
   ]
  },
  {
   "cell_type": "code",
   "execution_count": 3,
   "id": "886650c1",
   "metadata": {},
   "outputs": [
    {
     "data": {
      "text/plain": [
       "Service ID              int64\n",
       "Service Type           object\n",
       "Service Cost           object\n",
       "Service Revenue        object\n",
       "Number of Customers     int64\n",
       "Advertising Cost       object\n",
       "Location               object\n",
       "dtype: object"
      ]
     },
     "execution_count": 3,
     "metadata": {},
     "output_type": "execute_result"
    }
   ],
   "source": [
    "\n",
    "df.dtypes"
   ]
  },
  {
   "cell_type": "markdown",
   "id": "0d00d812",
   "metadata": {},
   "source": [
    "*2.*\n",
    "\n",
    "*Which location has the highest service costs? Plot a bar plot using Seaborn to visualize the service costs by location.* "
   ]
  },
  {
   "cell_type": "code",
   "execution_count": 4,
   "id": "121bb01e",
   "metadata": {},
   "outputs": [
    {
     "data": {
      "text/html": [
       "<div>\n",
       "<style scoped>\n",
       "    .dataframe tbody tr th:only-of-type {\n",
       "        vertical-align: middle;\n",
       "    }\n",
       "\n",
       "    .dataframe tbody tr th {\n",
       "        vertical-align: top;\n",
       "    }\n",
       "\n",
       "    .dataframe thead th {\n",
       "        text-align: right;\n",
       "    }\n",
       "</style>\n",
       "<table border=\"1\" class=\"dataframe\">\n",
       "  <thead>\n",
       "    <tr style=\"text-align: right;\">\n",
       "      <th></th>\n",
       "      <th>Service ID</th>\n",
       "      <th>Service Type</th>\n",
       "      <th>Service Cost</th>\n",
       "      <th>Service Revenue</th>\n",
       "      <th>Number of Customers</th>\n",
       "      <th>Advertising Cost</th>\n",
       "      <th>Location</th>\n",
       "    </tr>\n",
       "  </thead>\n",
       "  <tbody>\n",
       "    <tr>\n",
       "      <th>0</th>\n",
       "      <td>1</td>\n",
       "      <td>Oil Change</td>\n",
       "      <td>25</td>\n",
       "      <td>50</td>\n",
       "      <td>10</td>\n",
       "      <td>100</td>\n",
       "      <td>Urban</td>\n",
       "    </tr>\n",
       "    <tr>\n",
       "      <th>1</th>\n",
       "      <td>2</td>\n",
       "      <td>Brake Repair</td>\n",
       "      <td>200</td>\n",
       "      <td>500</td>\n",
       "      <td>5</td>\n",
       "      <td>50</td>\n",
       "      <td>Suburban</td>\n",
       "    </tr>\n",
       "    <tr>\n",
       "      <th>2</th>\n",
       "      <td>3</td>\n",
       "      <td>Tire Rotation</td>\n",
       "      <td>30</td>\n",
       "      <td>75</td>\n",
       "      <td>12</td>\n",
       "      <td>150</td>\n",
       "      <td>Rural</td>\n",
       "    </tr>\n",
       "    <tr>\n",
       "      <th>3</th>\n",
       "      <td>4</td>\n",
       "      <td>Transmission Repair</td>\n",
       "      <td>1000</td>\n",
       "      <td>2500</td>\n",
       "      <td>2</td>\n",
       "      <td>200</td>\n",
       "      <td>Urban</td>\n",
       "    </tr>\n",
       "    <tr>\n",
       "      <th>4</th>\n",
       "      <td>5</td>\n",
       "      <td>Battery Replacement</td>\n",
       "      <td>150</td>\n",
       "      <td>300</td>\n",
       "      <td>8</td>\n",
       "      <td>75</td>\n",
       "      <td>Suburban</td>\n",
       "    </tr>\n",
       "  </tbody>\n",
       "</table>\n",
       "</div>"
      ],
      "text/plain": [
       "   Service ID         Service Type  Service Cost  Service Revenue  \\\n",
       "0           1           Oil Change            25               50   \n",
       "1           2         Brake Repair           200              500   \n",
       "2           3        Tire Rotation            30               75   \n",
       "3           4  Transmission Repair          1000             2500   \n",
       "4           5  Battery Replacement           150              300   \n",
       "\n",
       "   Number of Customers  Advertising Cost  Location  \n",
       "0                   10               100     Urban  \n",
       "1                    5                50  Suburban  \n",
       "2                   12               150     Rural  \n",
       "3                    2               200     Urban  \n",
       "4                    8                75  Suburban  "
      ]
     },
     "execution_count": 4,
     "metadata": {},
     "output_type": "execute_result"
    }
   ],
   "source": [
    "df2 = df.copy()\n",
    "\n",
    "def modify_df(df):\n",
    "    df[\"Service Revenue\"] = df[\"Service Revenue\"].str.replace(\"$\", \"\").astype(int)\n",
    "    df[\"Service Cost\"] = df[\"Service Cost\"].str.replace(\"$\", \"\").astype(int)\n",
    "    df[\"Advertising Cost\"] = df[\"Advertising Cost\"].str.replace(\"$\", \"\").astype(int)\n",
    "    return df\n",
    "\n",
    "modify_df(df2)\n",
    "\n",
    "df2.head()"
   ]
  },
  {
   "cell_type": "code",
   "execution_count": 6,
   "id": "5b61c16e",
   "metadata": {},
   "outputs": [
    {
     "data": {
      "text/html": [
       "<div>\n",
       "<style scoped>\n",
       "    .dataframe tbody tr th:only-of-type {\n",
       "        vertical-align: middle;\n",
       "    }\n",
       "\n",
       "    .dataframe tbody tr th {\n",
       "        vertical-align: top;\n",
       "    }\n",
       "\n",
       "    .dataframe thead th {\n",
       "        text-align: right;\n",
       "    }\n",
       "</style>\n",
       "<table border=\"1\" class=\"dataframe\">\n",
       "  <thead>\n",
       "    <tr style=\"text-align: right;\">\n",
       "      <th></th>\n",
       "      <th>Service ID</th>\n",
       "      <th>Service Type</th>\n",
       "      <th>Service Cost</th>\n",
       "      <th>Service Revenue</th>\n",
       "      <th>Number of Customers</th>\n",
       "      <th>Advertising Cost</th>\n",
       "    </tr>\n",
       "    <tr>\n",
       "      <th>Location</th>\n",
       "      <th></th>\n",
       "      <th></th>\n",
       "      <th></th>\n",
       "      <th></th>\n",
       "      <th></th>\n",
       "      <th></th>\n",
       "    </tr>\n",
       "  </thead>\n",
       "  <tbody>\n",
       "    <tr>\n",
       "      <th>Urban</th>\n",
       "      <td>70</td>\n",
       "      <td>Oil ChangeTransmission RepairAC RechargeDetail...</td>\n",
       "      <td>2225</td>\n",
       "      <td>5350</td>\n",
       "      <td>42</td>\n",
       "      <td>750</td>\n",
       "    </tr>\n",
       "    <tr>\n",
       "      <th>Suburban</th>\n",
       "      <td>77</td>\n",
       "      <td>Brake RepairBattery ReplacementSuspension Repa...</td>\n",
       "      <td>2050</td>\n",
       "      <td>4950</td>\n",
       "      <td>67</td>\n",
       "      <td>625</td>\n",
       "    </tr>\n",
       "    <tr>\n",
       "      <th>Rural</th>\n",
       "      <td>63</td>\n",
       "      <td>Tire RotationEngine DiagnosticRadiator FlushFu...</td>\n",
       "      <td>655</td>\n",
       "      <td>1650</td>\n",
       "      <td>72</td>\n",
       "      <td>575</td>\n",
       "    </tr>\n",
       "  </tbody>\n",
       "</table>\n",
       "</div>"
      ],
      "text/plain": [
       "          Service ID                                       Service Type  \\\n",
       "Location                                                                  \n",
       "Urban             70  Oil ChangeTransmission RepairAC RechargeDetail...   \n",
       "Suburban          77  Brake RepairBattery ReplacementSuspension Repa...   \n",
       "Rural             63  Tire RotationEngine DiagnosticRadiator FlushFu...   \n",
       "\n",
       "          Service Cost  Service Revenue  Number of Customers  Advertising Cost  \n",
       "Location                                                                        \n",
       "Urban             2225             5350                   42               750  \n",
       "Suburban          2050             4950                   67               625  \n",
       "Rural              655             1650                   72               575  "
      ]
     },
     "execution_count": 6,
     "metadata": {},
     "output_type": "execute_result"
    }
   ],
   "source": [
    "group_by_location = df2.groupby(\"Location\").sum()\n",
    "\n",
    "group_by_location.sort_values(by=\"Service Cost\", ascending=False)"
   ]
  },
  {
   "cell_type": "code",
   "execution_count": 7,
   "id": "fb5540dc",
   "metadata": {},
   "outputs": [
    {
     "data": {
      "image/png": "[encoded data removed]",
      "text/plain": [
       "<Figure size 1200x800 with 1 Axes>"
      ]
     },
     "metadata": {},
     "output_type": "display_data"
    }
   ],
   "source": [
    "import matplotlib.pyplot as plt\n",
    "import seaborn as sns\n",
    "\n",
    "\n",
    "fig, ax = plt.subplots(figsize=(12, 8))\n",
    "sns.barplot(x=group_by_location.index, \n",
    "            y=group_by_location[\"Service Cost\"], \n",
    "            data=group_by_location)\n",
    "ax.set_title('Costs Per Location', fontsize=20)\n",
    "plt.show()"
   ]
  },
  {
   "cell_type": "markdown",
   "id": "4a94b599",
   "metadata": {},
   "source": [
    "*3.*\n",
    "\n",
    "*Which location has the highest number of customers? Using pandas and Matplotlib, plot a line plot of location and number of customers.* "
   ]
  },
  {
   "cell_type": "code",
   "execution_count": 8,
   "id": "120806c1",
   "metadata": {},
   "outputs": [
    {
     "data": {
      "image/png": "[encoded data removed]",
      "text/plain": [
       "<Figure size 1200x800 with 1 Axes>"
      ]
     },
     "metadata": {},
     "output_type": "display_data"
    }
   ],
   "source": [
    "df_group = df2.groupby(\"Location\")[\"Number of Customers\"].sum()\n",
    "\n",
    "plt.figure(figsize=(12, 8))\n",
    "plt.pie(df_group, explode=(0.1, 0, 0), \n",
    "       labels=df_group.index, \n",
    "       autopct='%1.1f%%',\n",
    "       shadow=True, \n",
    "       )\n",
    "\n",
    "plt.title(\"Customers Per Location\", fontsize=20)\n",
    "plt.show()"
   ]
  },
  {
   "cell_type": "markdown",
   "id": "d0097686",
   "metadata": {},
   "source": [
    "*4.*\n",
    "\n",
    "*Using the pandas groupby() method, group the data by location and find the average profit margin per location. Format your output to 1 decimal place and present it as a percentage.* "
   ]
  },
  {
   "cell_type": "code",
   "execution_count": 9,
   "id": "8ab46aa1",
   "metadata": {},
   "outputs": [
    {
     "data": {
      "text/plain": [
       "Location\n",
       "Rural       60.4%\n",
       "Suburban    55.8%\n",
       "Urban       56.5%\n",
       "Name: Profit Margin, dtype: object"
      ]
     },
     "execution_count": 9,
     "metadata": {},
     "output_type": "execute_result"
    }
   ],
   "source": [
    "df2['Profit'] = df2['Service Revenue'] - df2['Service Cost']\n",
    "\n",
    "df2['Profit Margin'] = df2['Profit'] / df2['Service Revenue']*100\n",
    "                                        \n",
    "df2.groupby('Location')['Profit Margin'].mean().map('{:,.1f}%'.format)"
   ]
  },
  {
   "cell_type": "markdown",
   "id": "8ff16fa7",
   "metadata": {},
   "source": [
    "*5.*\n",
    "\n",
    "*What is the advertising cost of each region as a percentage of total revenue? Using the rank() method, rank each region by the cost of advertising as a percentage of revenue in descending order( add a rank column to grouped data. Which region has the lowest rank?* "
   ]
  },
  {
   "cell_type": "code",
   "execution_count": 10,
   "id": "28807c37",
   "metadata": {},
   "outputs": [
    {
     "data": {
      "text/plain": [
       "Location\n",
       "Rural       34.8%\n",
       "Suburban    12.6%\n",
       "Urban       14.0%\n",
       "dtype: object"
      ]
     },
     "execution_count": 10,
     "metadata": {},
     "output_type": "execute_result"
    }
   ],
   "source": [
    "df_group2 = df2.groupby([\"Location\" ])[['Advertising Cost','Service Revenue']].sum()\n",
    "\n",
    "(df_group2[\"Advertising Cost\"]/df_group2[\"Service Revenue\"] * 100).map('{:,.1f}%'.format)"
   ]
  },
  {
   "cell_type": "code",
   "execution_count": 11,
   "id": "f25bc62f",
   "metadata": {},
   "outputs": [
    {
     "data": {
      "text/html": [
       "<div>\n",
       "<style scoped>\n",
       "    .dataframe tbody tr th:only-of-type {\n",
       "        vertical-align: middle;\n",
       "    }\n",
       "\n",
       "    .dataframe tbody tr th {\n",
       "        vertical-align: top;\n",
       "    }\n",
       "\n",
       "    .dataframe thead th {\n",
       "        text-align: right;\n",
       "    }\n",
       "</style>\n",
       "<table border=\"1\" class=\"dataframe\">\n",
       "  <thead>\n",
       "    <tr style=\"text-align: right;\">\n",
       "      <th></th>\n",
       "      <th>Advertising Cost</th>\n",
       "      <th>Service Revenue</th>\n",
       "      <th>rank</th>\n",
       "    </tr>\n",
       "    <tr>\n",
       "      <th>Location</th>\n",
       "      <th></th>\n",
       "      <th></th>\n",
       "      <th></th>\n",
       "    </tr>\n",
       "  </thead>\n",
       "  <tbody>\n",
       "    <tr>\n",
       "      <th>Rural</th>\n",
       "      <td>575</td>\n",
       "      <td>1650</td>\n",
       "      <td>1.0</td>\n",
       "    </tr>\n",
       "    <tr>\n",
       "      <th>Suburban</th>\n",
       "      <td>625</td>\n",
       "      <td>4950</td>\n",
       "      <td>3.0</td>\n",
       "    </tr>\n",
       "    <tr>\n",
       "      <th>Urban</th>\n",
       "      <td>750</td>\n",
       "      <td>5350</td>\n",
       "      <td>2.0</td>\n",
       "    </tr>\n",
       "  </tbody>\n",
       "</table>\n",
       "</div>"
      ],
      "text/plain": [
       "          Advertising Cost  Service Revenue  rank\n",
       "Location                                         \n",
       "Rural                  575             1650   1.0\n",
       "Suburban               625             4950   3.0\n",
       "Urban                  750             5350   2.0"
      ]
     },
     "execution_count": 11,
     "metadata": {},
     "output_type": "execute_result"
    }
   ],
   "source": [
    "df_group2[\"rank\"] = (df_group2[\"Advertising Cost\"]/df_group2\n",
    "                     [\"Service Revenue\"]).rank(ascending=False)\n",
    "df_group2"
   ]
  }
 ],
 "metadata": {
  "kernelspec": {
   "display_name": "Python 3",
   "language": "python",
   "name": "python3"
  },
  "language_info": {
   "codemirror_mode": {
    "name": "ipython",
    "version": 3
   },
   "file_extension": ".py",
   "mimetype": "text/x-python",
   "name": "python",
   "nbconvert_exporter": "python",
   "pygments_lexer": "ipython3",
   "version": "3.11.1"
  }
 },
 "nbformat": 4,
 "nbformat_minor": 5
}

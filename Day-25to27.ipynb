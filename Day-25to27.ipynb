{
 "cells": [
  {
   "cell_type": "markdown",
   "id": "b4f06226",
   "metadata": {},
   "source": [
    "# **Day - 25 : Retail Data Processing and Analysis - Part 1**"
   ]
  },
  {
   "cell_type": "markdown",
   "id": "22718d3a",
   "metadata": {},
   "source": [
    "*1.*\n",
    "\n",
    "*Import the retail_shop_data file and view the first 5 rows. Write another code to check how many rows and columns are in the DataFrame. Are there any duplicates?* "
   ]
  },
  {
   "cell_type": "code",
   "execution_count": 32,
   "id": "12b73a71",
   "metadata": {},
   "outputs": [
    {
     "data": {
      "text/html": [
       "<div>\n",
       "<style scoped>\n",
       "    .dataframe tbody tr th:only-of-type {\n",
       "        vertical-align: middle;\n",
       "    }\n",
       "\n",
       "    .dataframe tbody tr th {\n",
       "        vertical-align: top;\n",
       "    }\n",
       "\n",
       "    .dataframe thead th {\n",
       "        text-align: right;\n",
       "    }\n",
       "</style>\n",
       "<table border=\"1\" class=\"dataframe\">\n",
       "  <thead>\n",
       "    <tr style=\"text-align: right;\">\n",
       "      <th></th>\n",
       "      <th>Date</th>\n",
       "      <th>Customer ID</th>\n",
       "      <th>Product ID</th>\n",
       "      <th>Product Name</th>\n",
       "      <th>Cost</th>\n",
       "      <th>Price</th>\n",
       "      <th>Quantity</th>\n",
       "      <th>Total</th>\n",
       "    </tr>\n",
       "  </thead>\n",
       "  <tbody>\n",
       "    <tr>\n",
       "      <th>0</th>\n",
       "      <td>1 01 2023</td>\n",
       "      <td>1001</td>\n",
       "      <td>101</td>\n",
       "      <td>T-Shirt</td>\n",
       "      <td>18</td>\n",
       "      <td>20</td>\n",
       "      <td>2</td>\n",
       "      <td>40</td>\n",
       "    </tr>\n",
       "    <tr>\n",
       "      <th>1</th>\n",
       "      <td>1 01 2023</td>\n",
       "      <td>1002</td>\n",
       "      <td>102</td>\n",
       "      <td>Jeans</td>\n",
       "      <td>35</td>\n",
       "      <td>50</td>\n",
       "      <td>1</td>\n",
       "      <td>50</td>\n",
       "    </tr>\n",
       "    <tr>\n",
       "      <th>2</th>\n",
       "      <td>2 01 2023</td>\n",
       "      <td>1003</td>\n",
       "      <td>103</td>\n",
       "      <td>Hoodie</td>\n",
       "      <td>25</td>\n",
       "      <td>30</td>\n",
       "      <td>3</td>\n",
       "      <td>90</td>\n",
       "    </tr>\n",
       "    <tr>\n",
       "      <th>3</th>\n",
       "      <td>3 01 2023</td>\n",
       "      <td>1004</td>\n",
       "      <td>104</td>\n",
       "      <td>Sneakers</td>\n",
       "      <td>55</td>\n",
       "      <td>70</td>\n",
       "      <td>2</td>\n",
       "      <td>140</td>\n",
       "    </tr>\n",
       "    <tr>\n",
       "      <th>4</th>\n",
       "      <td>3 01 2023</td>\n",
       "      <td>1005</td>\n",
       "      <td>105</td>\n",
       "      <td>Sunglasses</td>\n",
       "      <td>17</td>\n",
       "      <td>25</td>\n",
       "      <td>1</td>\n",
       "      <td>25</td>\n",
       "    </tr>\n",
       "  </tbody>\n",
       "</table>\n",
       "</div>"
      ],
      "text/plain": [
       "        Date  Customer ID  Product ID Product Name  Cost  Price  Quantity  \\\n",
       "0  1 01 2023         1001         101      T-Shirt    18     20         2   \n",
       "1  1 01 2023         1002         102        Jeans    35     50         1   \n",
       "2  2 01 2023         1003         103       Hoodie    25     30         3   \n",
       "3  3 01 2023         1004         104     Sneakers    55     70         2   \n",
       "4  3 01 2023         1005         105   Sunglasses    17     25         1   \n",
       "\n",
       "   Total  \n",
       "0     40  \n",
       "1     50  \n",
       "2     90  \n",
       "3    140  \n",
       "4     25  "
      ]
     },
     "execution_count": 32,
     "metadata": {},
     "output_type": "execute_result"
    }
   ],
   "source": [
    "import pandas as pd\n",
    "\n",
    "df = pd.read_csv(r\"Data\\retail_shop_data.csv\")\n",
    "df.head()"
   ]
  },
  {
   "cell_type": "code",
   "execution_count": 33,
   "id": "0502dc1e",
   "metadata": {},
   "outputs": [
    {
     "data": {
      "text/plain": [
       "21"
      ]
     },
     "execution_count": 33,
     "metadata": {},
     "output_type": "execute_result"
    }
   ],
   "source": [
    "df.shape[0]"
   ]
  },
  {
   "cell_type": "code",
   "execution_count": 34,
   "id": "a6956514",
   "metadata": {},
   "outputs": [
    {
     "data": {
      "text/plain": [
       "8"
      ]
     },
     "execution_count": 34,
     "metadata": {},
     "output_type": "execute_result"
    }
   ],
   "source": [
    "df.shape[1]"
   ]
  },
  {
   "cell_type": "code",
   "execution_count": 35,
   "id": "5c91abb0",
   "metadata": {},
   "outputs": [
    {
     "data": {
      "text/plain": [
       "1"
      ]
     },
     "execution_count": 35,
     "metadata": {},
     "output_type": "execute_result"
    }
   ],
   "source": [
    "df.duplicated('Product Name').sum()"
   ]
  },
  {
   "cell_type": "markdown",
   "id": "bbfc2b3e",
   "metadata": {},
   "source": [
    "*2.*\n",
    "\n",
    "*Create a copy of the DataFrame. Now, write another line of code to rename columns: \"Total\" to \"Revenue,\" \"Price\" to \"Price Per Product,\" and \"Cost\" to \"Cost Per Product.* "
   ]
  },
  {
   "cell_type": "code",
   "execution_count": 36,
   "id": "aacda2d7",
   "metadata": {},
   "outputs": [
    {
     "data": {
      "text/html": [
       "<div>\n",
       "<style scoped>\n",
       "    .dataframe tbody tr th:only-of-type {\n",
       "        vertical-align: middle;\n",
       "    }\n",
       "\n",
       "    .dataframe tbody tr th {\n",
       "        vertical-align: top;\n",
       "    }\n",
       "\n",
       "    .dataframe thead th {\n",
       "        text-align: right;\n",
       "    }\n",
       "</style>\n",
       "<table border=\"1\" class=\"dataframe\">\n",
       "  <thead>\n",
       "    <tr style=\"text-align: right;\">\n",
       "      <th></th>\n",
       "      <th>Date</th>\n",
       "      <th>Customer ID</th>\n",
       "      <th>Product ID</th>\n",
       "      <th>Product Name</th>\n",
       "      <th>Cost Per Product</th>\n",
       "      <th>Price Per Product</th>\n",
       "      <th>Quantity</th>\n",
       "      <th>Revenue</th>\n",
       "    </tr>\n",
       "  </thead>\n",
       "  <tbody>\n",
       "    <tr>\n",
       "      <th>0</th>\n",
       "      <td>1 01 2023</td>\n",
       "      <td>1001</td>\n",
       "      <td>101</td>\n",
       "      <td>T-Shirt</td>\n",
       "      <td>18</td>\n",
       "      <td>20</td>\n",
       "      <td>2</td>\n",
       "      <td>40</td>\n",
       "    </tr>\n",
       "    <tr>\n",
       "      <th>1</th>\n",
       "      <td>1 01 2023</td>\n",
       "      <td>1002</td>\n",
       "      <td>102</td>\n",
       "      <td>Jeans</td>\n",
       "      <td>35</td>\n",
       "      <td>50</td>\n",
       "      <td>1</td>\n",
       "      <td>50</td>\n",
       "    </tr>\n",
       "    <tr>\n",
       "      <th>2</th>\n",
       "      <td>2 01 2023</td>\n",
       "      <td>1003</td>\n",
       "      <td>103</td>\n",
       "      <td>Hoodie</td>\n",
       "      <td>25</td>\n",
       "      <td>30</td>\n",
       "      <td>3</td>\n",
       "      <td>90</td>\n",
       "    </tr>\n",
       "    <tr>\n",
       "      <th>3</th>\n",
       "      <td>3 01 2023</td>\n",
       "      <td>1004</td>\n",
       "      <td>104</td>\n",
       "      <td>Sneakers</td>\n",
       "      <td>55</td>\n",
       "      <td>70</td>\n",
       "      <td>2</td>\n",
       "      <td>140</td>\n",
       "    </tr>\n",
       "    <tr>\n",
       "      <th>4</th>\n",
       "      <td>3 01 2023</td>\n",
       "      <td>1005</td>\n",
       "      <td>105</td>\n",
       "      <td>Sunglasses</td>\n",
       "      <td>17</td>\n",
       "      <td>25</td>\n",
       "      <td>1</td>\n",
       "      <td>25</td>\n",
       "    </tr>\n",
       "  </tbody>\n",
       "</table>\n",
       "</div>"
      ],
      "text/plain": [
       "        Date  Customer ID  Product ID Product Name  Cost Per Product  \\\n",
       "0  1 01 2023         1001         101      T-Shirt                18   \n",
       "1  1 01 2023         1002         102        Jeans                35   \n",
       "2  2 01 2023         1003         103       Hoodie                25   \n",
       "3  3 01 2023         1004         104     Sneakers                55   \n",
       "4  3 01 2023         1005         105   Sunglasses                17   \n",
       "\n",
       "   Price Per Product  Quantity  Revenue  \n",
       "0                 20         2       40  \n",
       "1                 50         1       50  \n",
       "2                 30         3       90  \n",
       "3                 70         2      140  \n",
       "4                 25         1       25  "
      ]
     },
     "execution_count": 36,
     "metadata": {},
     "output_type": "execute_result"
    }
   ],
   "source": [
    "df.rename(columns={'Total':'Revenue','Cost': 'Cost Per Product', \n",
    "                   'Price': 'Price Per Product'}, inplace=True)\n",
    "df.head()"
   ]
  },
  {
   "cell_type": "code",
   "execution_count": null,
   "id": "197fd1b6",
   "metadata": {},
   "outputs": [],
   "source": []
  },
  {
   "cell_type": "markdown",
   "id": "8d73827f",
   "metadata": {},
   "source": [
    "*3.*\n",
    "\n",
    "*Calculate the total cost per product and add this as a column to the DataFrame. Name this column: Total Costs. Calculate the difference between Revenue and Expenses. Name this column, Profit.* "
   ]
  },
  {
   "cell_type": "code",
   "execution_count": 37,
   "id": "66c39a01",
   "metadata": {},
   "outputs": [
    {
     "data": {
      "text/html": [
       "<div>\n",
       "<style scoped>\n",
       "    .dataframe tbody tr th:only-of-type {\n",
       "        vertical-align: middle;\n",
       "    }\n",
       "\n",
       "    .dataframe tbody tr th {\n",
       "        vertical-align: top;\n",
       "    }\n",
       "\n",
       "    .dataframe thead th {\n",
       "        text-align: right;\n",
       "    }\n",
       "</style>\n",
       "<table border=\"1\" class=\"dataframe\">\n",
       "  <thead>\n",
       "    <tr style=\"text-align: right;\">\n",
       "      <th></th>\n",
       "      <th>Date</th>\n",
       "      <th>Customer ID</th>\n",
       "      <th>Product ID</th>\n",
       "      <th>Product Name</th>\n",
       "      <th>Cost Per Product</th>\n",
       "      <th>Price Per Product</th>\n",
       "      <th>Quantity</th>\n",
       "      <th>Revenue</th>\n",
       "      <th>Costs</th>\n",
       "      <th>Profit</th>\n",
       "    </tr>\n",
       "  </thead>\n",
       "  <tbody>\n",
       "    <tr>\n",
       "      <th>0</th>\n",
       "      <td>1 01 2023</td>\n",
       "      <td>1001</td>\n",
       "      <td>101</td>\n",
       "      <td>T-Shirt</td>\n",
       "      <td>18</td>\n",
       "      <td>20</td>\n",
       "      <td>2</td>\n",
       "      <td>40</td>\n",
       "      <td>36</td>\n",
       "      <td>4</td>\n",
       "    </tr>\n",
       "    <tr>\n",
       "      <th>1</th>\n",
       "      <td>1 01 2023</td>\n",
       "      <td>1002</td>\n",
       "      <td>102</td>\n",
       "      <td>Jeans</td>\n",
       "      <td>35</td>\n",
       "      <td>50</td>\n",
       "      <td>1</td>\n",
       "      <td>50</td>\n",
       "      <td>35</td>\n",
       "      <td>15</td>\n",
       "    </tr>\n",
       "    <tr>\n",
       "      <th>2</th>\n",
       "      <td>2 01 2023</td>\n",
       "      <td>1003</td>\n",
       "      <td>103</td>\n",
       "      <td>Hoodie</td>\n",
       "      <td>25</td>\n",
       "      <td>30</td>\n",
       "      <td>3</td>\n",
       "      <td>90</td>\n",
       "      <td>75</td>\n",
       "      <td>15</td>\n",
       "    </tr>\n",
       "    <tr>\n",
       "      <th>3</th>\n",
       "      <td>3 01 2023</td>\n",
       "      <td>1004</td>\n",
       "      <td>104</td>\n",
       "      <td>Sneakers</td>\n",
       "      <td>55</td>\n",
       "      <td>70</td>\n",
       "      <td>2</td>\n",
       "      <td>140</td>\n",
       "      <td>110</td>\n",
       "      <td>30</td>\n",
       "    </tr>\n",
       "    <tr>\n",
       "      <th>4</th>\n",
       "      <td>3 01 2023</td>\n",
       "      <td>1005</td>\n",
       "      <td>105</td>\n",
       "      <td>Sunglasses</td>\n",
       "      <td>17</td>\n",
       "      <td>25</td>\n",
       "      <td>1</td>\n",
       "      <td>25</td>\n",
       "      <td>17</td>\n",
       "      <td>8</td>\n",
       "    </tr>\n",
       "  </tbody>\n",
       "</table>\n",
       "</div>"
      ],
      "text/plain": [
       "        Date  Customer ID  Product ID Product Name  Cost Per Product  \\\n",
       "0  1 01 2023         1001         101      T-Shirt                18   \n",
       "1  1 01 2023         1002         102        Jeans                35   \n",
       "2  2 01 2023         1003         103       Hoodie                25   \n",
       "3  3 01 2023         1004         104     Sneakers                55   \n",
       "4  3 01 2023         1005         105   Sunglasses                17   \n",
       "\n",
       "   Price Per Product  Quantity  Revenue  Costs  Profit  \n",
       "0                 20         2       40     36       4  \n",
       "1                 50         1       50     35      15  \n",
       "2                 30         3       90     75      15  \n",
       "3                 70         2      140    110      30  \n",
       "4                 25         1       25     17       8  "
      ]
     },
     "execution_count": 37,
     "metadata": {},
     "output_type": "execute_result"
    }
   ],
   "source": [
    "df[\"Costs\"] = df[\"Cost Per Product\"] * df[\"Quantity\"]\n",
    "\n",
    "df['Profit'] = df['Revenue'] - df['Costs']\n",
    "df.head()"
   ]
  },
  {
   "cell_type": "markdown",
   "id": "6a0eb508",
   "metadata": {},
   "source": [
    "*4.*\n",
    "\n",
    "*Add another column called Filter, this column should check for products that have profit margin of $15 and above. If a product has profit over 15 it should return True, otherwise False.* "
   ]
  },
  {
   "cell_type": "code",
   "execution_count": 38,
   "id": "72d31817",
   "metadata": {},
   "outputs": [
    {
     "data": {
      "text/html": [
       "<div>\n",
       "<style scoped>\n",
       "    .dataframe tbody tr th:only-of-type {\n",
       "        vertical-align: middle;\n",
       "    }\n",
       "\n",
       "    .dataframe tbody tr th {\n",
       "        vertical-align: top;\n",
       "    }\n",
       "\n",
       "    .dataframe thead th {\n",
       "        text-align: right;\n",
       "    }\n",
       "</style>\n",
       "<table border=\"1\" class=\"dataframe\">\n",
       "  <thead>\n",
       "    <tr style=\"text-align: right;\">\n",
       "      <th></th>\n",
       "      <th>Date</th>\n",
       "      <th>Customer ID</th>\n",
       "      <th>Product ID</th>\n",
       "      <th>Product Name</th>\n",
       "      <th>Cost Per Product</th>\n",
       "      <th>Price Per Product</th>\n",
       "      <th>Quantity</th>\n",
       "      <th>Revenue</th>\n",
       "      <th>Costs</th>\n",
       "      <th>Profit</th>\n",
       "      <th>Filter</th>\n",
       "    </tr>\n",
       "  </thead>\n",
       "  <tbody>\n",
       "    <tr>\n",
       "      <th>0</th>\n",
       "      <td>1 01 2023</td>\n",
       "      <td>1001</td>\n",
       "      <td>101</td>\n",
       "      <td>T-Shirt</td>\n",
       "      <td>18</td>\n",
       "      <td>20</td>\n",
       "      <td>2</td>\n",
       "      <td>40</td>\n",
       "      <td>36</td>\n",
       "      <td>4</td>\n",
       "      <td>False</td>\n",
       "    </tr>\n",
       "    <tr>\n",
       "      <th>1</th>\n",
       "      <td>1 01 2023</td>\n",
       "      <td>1002</td>\n",
       "      <td>102</td>\n",
       "      <td>Jeans</td>\n",
       "      <td>35</td>\n",
       "      <td>50</td>\n",
       "      <td>1</td>\n",
       "      <td>50</td>\n",
       "      <td>35</td>\n",
       "      <td>15</td>\n",
       "      <td>False</td>\n",
       "    </tr>\n",
       "    <tr>\n",
       "      <th>2</th>\n",
       "      <td>2 01 2023</td>\n",
       "      <td>1003</td>\n",
       "      <td>103</td>\n",
       "      <td>Hoodie</td>\n",
       "      <td>25</td>\n",
       "      <td>30</td>\n",
       "      <td>3</td>\n",
       "      <td>90</td>\n",
       "      <td>75</td>\n",
       "      <td>15</td>\n",
       "      <td>False</td>\n",
       "    </tr>\n",
       "    <tr>\n",
       "      <th>3</th>\n",
       "      <td>3 01 2023</td>\n",
       "      <td>1004</td>\n",
       "      <td>104</td>\n",
       "      <td>Sneakers</td>\n",
       "      <td>55</td>\n",
       "      <td>70</td>\n",
       "      <td>2</td>\n",
       "      <td>140</td>\n",
       "      <td>110</td>\n",
       "      <td>30</td>\n",
       "      <td>True</td>\n",
       "    </tr>\n",
       "    <tr>\n",
       "      <th>4</th>\n",
       "      <td>3 01 2023</td>\n",
       "      <td>1005</td>\n",
       "      <td>105</td>\n",
       "      <td>Sunglasses</td>\n",
       "      <td>17</td>\n",
       "      <td>25</td>\n",
       "      <td>1</td>\n",
       "      <td>25</td>\n",
       "      <td>17</td>\n",
       "      <td>8</td>\n",
       "      <td>False</td>\n",
       "    </tr>\n",
       "  </tbody>\n",
       "</table>\n",
       "</div>"
      ],
      "text/plain": [
       "        Date  Customer ID  Product ID Product Name  Cost Per Product  \\\n",
       "0  1 01 2023         1001         101      T-Shirt                18   \n",
       "1  1 01 2023         1002         102        Jeans                35   \n",
       "2  2 01 2023         1003         103       Hoodie                25   \n",
       "3  3 01 2023         1004         104     Sneakers                55   \n",
       "4  3 01 2023         1005         105   Sunglasses                17   \n",
       "\n",
       "   Price Per Product  Quantity  Revenue  Costs  Profit  Filter  \n",
       "0                 20         2       40     36       4   False  \n",
       "1                 50         1       50     35      15   False  \n",
       "2                 30         3       90     75      15   False  \n",
       "3                 70         2      140    110      30    True  \n",
       "4                 25         1       25     17       8   False  "
      ]
     },
     "execution_count": 38,
     "metadata": {},
     "output_type": "execute_result"
    }
   ],
   "source": [
    "df['Filter'] = df[\"Profit\"] > 15\n",
    "df.head()"
   ]
  },
  {
   "cell_type": "markdown",
   "id": "51ca4af1",
   "metadata": {},
   "source": [
    "*5.*\n",
    "\n",
    "*Which products have profit margin of over $15? Use pandas.* "
   ]
  },
  {
   "cell_type": "code",
   "execution_count": 39,
   "id": "9f05853c",
   "metadata": {},
   "outputs": [
    {
     "data": {
      "text/html": [
       "<div>\n",
       "<style scoped>\n",
       "    .dataframe tbody tr th:only-of-type {\n",
       "        vertical-align: middle;\n",
       "    }\n",
       "\n",
       "    .dataframe tbody tr th {\n",
       "        vertical-align: top;\n",
       "    }\n",
       "\n",
       "    .dataframe thead th {\n",
       "        text-align: right;\n",
       "    }\n",
       "</style>\n",
       "<table border=\"1\" class=\"dataframe\">\n",
       "  <thead>\n",
       "    <tr style=\"text-align: right;\">\n",
       "      <th></th>\n",
       "      <th>Date</th>\n",
       "      <th>Customer ID</th>\n",
       "      <th>Product ID</th>\n",
       "      <th>Product Name</th>\n",
       "      <th>Cost Per Product</th>\n",
       "      <th>Price Per Product</th>\n",
       "      <th>Quantity</th>\n",
       "      <th>Revenue</th>\n",
       "      <th>Costs</th>\n",
       "      <th>Profit</th>\n",
       "      <th>Filter</th>\n",
       "    </tr>\n",
       "  </thead>\n",
       "  <tbody>\n",
       "    <tr>\n",
       "      <th>3</th>\n",
       "      <td>3 01 2023</td>\n",
       "      <td>1004</td>\n",
       "      <td>104</td>\n",
       "      <td>Sneakers</td>\n",
       "      <td>55</td>\n",
       "      <td>70</td>\n",
       "      <td>2</td>\n",
       "      <td>140</td>\n",
       "      <td>110</td>\n",
       "      <td>30</td>\n",
       "      <td>True</td>\n",
       "    </tr>\n",
       "    <tr>\n",
       "      <th>7</th>\n",
       "      <td>6 01 2023</td>\n",
       "      <td>1008</td>\n",
       "      <td>108</td>\n",
       "      <td>Jacket</td>\n",
       "      <td>63</td>\n",
       "      <td>80</td>\n",
       "      <td>1</td>\n",
       "      <td>80</td>\n",
       "      <td>63</td>\n",
       "      <td>17</td>\n",
       "      <td>True</td>\n",
       "    </tr>\n",
       "    <tr>\n",
       "      <th>13</th>\n",
       "      <td>9 01 2023</td>\n",
       "      <td>1008</td>\n",
       "      <td>108</td>\n",
       "      <td>Jacket</td>\n",
       "      <td>63</td>\n",
       "      <td>80</td>\n",
       "      <td>2</td>\n",
       "      <td>160</td>\n",
       "      <td>126</td>\n",
       "      <td>34</td>\n",
       "      <td>True</td>\n",
       "    </tr>\n",
       "  </tbody>\n",
       "</table>\n",
       "</div>"
      ],
      "text/plain": [
       "         Date  Customer ID  Product ID Product Name  Cost Per Product  \\\n",
       "3   3 01 2023         1004         104     Sneakers                55   \n",
       "7   6 01 2023         1008         108       Jacket                63   \n",
       "13  9 01 2023         1008         108       Jacket                63   \n",
       "\n",
       "    Price Per Product  Quantity  Revenue  Costs  Profit  Filter  \n",
       "3                  70         2      140    110      30    True  \n",
       "7                  80         1       80     63      17    True  \n",
       "13                 80         2      160    126      34    True  "
      ]
     },
     "execution_count": 39,
     "metadata": {},
     "output_type": "execute_result"
    }
   ],
   "source": [
    "df.query(\"Filter == True\")"
   ]
  },
  {
   "cell_type": "code",
   "execution_count": 40,
   "id": "666d1cf5",
   "metadata": {},
   "outputs": [
    {
     "name": "stdout",
     "output_type": "stream",
     "text": [
      "3     Sneakers\n",
      "7       Jacket\n",
      "13      Jacket\n",
      "Name: Product Name, dtype: object\n"
     ]
    }
   ],
   "source": [
    "print(df[df['Filter'] == True]['Product Name'])"
   ]
  },
  {
   "cell_type": "markdown",
   "id": "bc90dc4f",
   "metadata": {},
   "source": [
    "# **Day - 26 : Retail Data Processing and Analysis - Part 2**"
   ]
  },
  {
   "cell_type": "markdown",
   "id": "b0a00659",
   "metadata": {},
   "source": [
    "*1.*\n",
    "\n",
    "*Using pandas, write a code to check the difference in profit between Jackets and Sneakers.* "
   ]
  },
  {
   "cell_type": "code",
   "execution_count": 41,
   "id": "046132d6",
   "metadata": {},
   "outputs": [
    {
     "name": "stdout",
     "output_type": "stream",
     "text": [
      "The profit difference between Jackets and Sneakers 21\n"
     ]
    }
   ],
   "source": [
    "df_data = df.groupby(\"Product Name\")[\"Profit\"].sum()\n",
    "\n",
    "jackets_sneakers_profit = abs(df_data.loc[\"Jacket\"] - df_data.loc[\"Sneakers\"])\n",
    "print(f'The profit difference between Jackets and Sneakers {jackets_sneakers_profit}')"
   ]
  },
  {
   "cell_type": "markdown",
   "id": "b1f0202b",
   "metadata": {},
   "source": [
    "*2.*\n",
    "\n",
    "*Using pandas, what is the difference in costs between the most profitable product and the least profitable product.* "
   ]
  },
  {
   "cell_type": "code",
   "execution_count": 42,
   "id": "96ace747",
   "metadata": {},
   "outputs": [
    {
     "name": "stdout",
     "output_type": "stream",
     "text": [
      "The difference in costs between the most profitable product and least profitable is 98\n"
     ]
    }
   ],
   "source": [
    "df.sort_values(\"Profit\", inplace=True)\n",
    "cost_diff = df.iloc[-1][\"Costs\"] - df.iloc[0][\"Costs\"]\n",
    "\n",
    "print('The difference in costs between the most profitable', \n",
    "      'product and least profitable is', cost_diff)"
   ]
  },
  {
   "cell_type": "markdown",
   "id": "7852aad8",
   "metadata": {},
   "source": [
    "*3.*\n",
    "\n",
    "*Write a code to access the total costs of jackets (using loc method).* "
   ]
  },
  {
   "cell_type": "code",
   "execution_count": 43,
   "id": "7e8c7336",
   "metadata": {},
   "outputs": [
    {
     "name": "stdout",
     "output_type": "stream",
     "text": [
      "The costs of Jackets is 189\n"
     ]
    }
   ],
   "source": [
    "df_data = df.groupby(\"Product Name\")[\"Costs\"].sum()\n",
    "\n",
    "df_costs_of_jeans = df_data.loc[\"Jacket\"]\n",
    "\n",
    "print(\"The costs of Jackets is\", df_costs_of_jeans)"
   ]
  },
  {
   "cell_type": "markdown",
   "id": "3a947731",
   "metadata": {},
   "source": [
    "*4.*\n",
    "\n",
    "*Using Matplotlib, create a bar stack graph of the sales, costs and profits of the 5 least profitable products.* "
   ]
  },
  {
   "cell_type": "code",
   "execution_count": 44,
   "id": "65154226",
   "metadata": {},
   "outputs": [
    {
     "data": {
      "image/png": "[encoded data removed]",
      "text/plain": [
       "<Figure size 1200x800 with 1 Axes>"
      ]
     },
     "metadata": {},
     "output_type": "display_data"
    }
   ],
   "source": [
    "import matplotlib.pyplot as plt\n",
    "\n",
    "df_least_5_products = df.sort_values(by = \"Profit\", ascending=True)[0:6]\n",
    "\n",
    "products = df_least_5_products[\"Product Name\"]\n",
    "sales = df_least_5_products[\"Revenue\"]\n",
    "costs = df_least_5_products[\"Costs\"]\n",
    "profit = df_least_5_products[\"Profit\"]\n",
    "\n",
    "fig, ax = plt.subplots(figsize=(12, 8))\n",
    "\n",
    "ax.bar(products, sales,  label=\"Sales\")\n",
    "ax.bar(products, costs,  label=\"Costs\", bottom = sales)\n",
    "ax.bar(products, profit, label=\"Profit\", bottom = sales + costs)\n",
    "\n",
    "ax.set_ylabel(\"Revenue\", fontsize = 15)\n",
    "ax.set_xlabel(\"Products\", fontsize = 15)\n",
    "plt.xticks(rotation = 0)\n",
    "ax.legend()\n",
    "plt.title(\"6 Least Profitable Products\", fontsize = 20)\n",
    "plt.show()"
   ]
  },
  {
   "cell_type": "markdown",
   "id": "86eb0531",
   "metadata": {},
   "source": [
    "# **Day - 27 : Retail Data Processing and Analysis - Part 3**"
   ]
  },
  {
   "cell_type": "markdown",
   "id": "482621bb",
   "metadata": {},
   "source": [
    "*1.*\n",
    "\n",
    "*Using loc method , calculate the profit of the sunglasses.* "
   ]
  },
  {
   "cell_type": "code",
   "execution_count": 45,
   "id": "de3fde72",
   "metadata": {},
   "outputs": [
    {
     "name": "stdout",
     "output_type": "stream",
     "text": [
      "Profit on Sunglasses is 8 dollars\n"
     ]
    }
   ],
   "source": [
    "sales_sunglasses = df.loc[df[\"Product Name\"]==\"Sunglasses\",\"Revenue\"]\n",
    "\n",
    "costs_sunglasses = df.loc[df[\"Product Name\"]==\"Sunglasses\",\"Costs\"]\n",
    "\n",
    "profit_of_sunglasses =  sales_sunglasses - costs_sunglasses\n",
    "print(f\"Profit on Sunglasses is {profit_of_sunglasses.iloc[0]} dollars\")"
   ]
  },
  {
   "cell_type": "markdown",
   "id": "2717a423",
   "metadata": {},
   "source": [
    "*2.*\n",
    "\n",
    "*Use loc to return the profit of hoodies.* "
   ]
  },
  {
   "cell_type": "code",
   "execution_count": 46,
   "id": "dfcbf89e",
   "metadata": {},
   "outputs": [
    {
     "name": "stdout",
     "output_type": "stream",
     "text": [
      "The profit of hoodies is: 15\n"
     ]
    }
   ],
   "source": [
    "profit_hoodies = df.loc[df[\"Product Name\"] == \"Hoodie\", \"Profit\"]\n",
    "print(\"The profit of hoodies is:\", profit_hoodies.iloc[0])"
   ]
  },
  {
   "cell_type": "markdown",
   "id": "ee18641b",
   "metadata": {},
   "source": [
    "*3.*\n",
    "\n",
    "*Using iloc return the names of the two least profitable products.* "
   ]
  },
  {
   "cell_type": "code",
   "execution_count": 47,
   "id": "f0d3d460",
   "metadata": {},
   "outputs": [
    {
     "data": {
      "text/plain": [
       "16    Wallet\n",
       "12    Beanie\n",
       "Name: Product Name, dtype: object"
      ]
     },
     "execution_count": 47,
     "metadata": {},
     "output_type": "execute_result"
    }
   ],
   "source": [
    "df.sort_values(\"Profit\", inplace=True)\n",
    "\n",
    "least_profitable_products = df.iloc[:2,3]\n",
    "least_profitable_products"
   ]
  },
  {
   "cell_type": "markdown",
   "id": "b937ce66",
   "metadata": {},
   "source": [
    "*4.*\n",
    "\n",
    "*Using loc return the name of most profitable product.* "
   ]
  },
  {
   "cell_type": "code",
   "execution_count": 48,
   "id": "aa4cb954",
   "metadata": {},
   "outputs": [
    {
     "data": {
      "text/html": [
       "<div>\n",
       "<style scoped>\n",
       "    .dataframe tbody tr th:only-of-type {\n",
       "        vertical-align: middle;\n",
       "    }\n",
       "\n",
       "    .dataframe tbody tr th {\n",
       "        vertical-align: top;\n",
       "    }\n",
       "\n",
       "    .dataframe thead th {\n",
       "        text-align: right;\n",
       "    }\n",
       "</style>\n",
       "<table border=\"1\" class=\"dataframe\">\n",
       "  <thead>\n",
       "    <tr style=\"text-align: right;\">\n",
       "      <th></th>\n",
       "      <th>Date</th>\n",
       "      <th>Customer ID</th>\n",
       "      <th>Product ID</th>\n",
       "      <th>Product Name</th>\n",
       "      <th>Cost Per Product</th>\n",
       "      <th>Price Per Product</th>\n",
       "      <th>Quantity</th>\n",
       "      <th>Revenue</th>\n",
       "      <th>Costs</th>\n",
       "      <th>Profit</th>\n",
       "      <th>Filter</th>\n",
       "    </tr>\n",
       "  </thead>\n",
       "  <tbody>\n",
       "    <tr>\n",
       "      <th>13</th>\n",
       "      <td>9 01 2023</td>\n",
       "      <td>1008</td>\n",
       "      <td>108</td>\n",
       "      <td>Jacket</td>\n",
       "      <td>63</td>\n",
       "      <td>80</td>\n",
       "      <td>2</td>\n",
       "      <td>160</td>\n",
       "      <td>126</td>\n",
       "      <td>34</td>\n",
       "      <td>True</td>\n",
       "    </tr>\n",
       "  </tbody>\n",
       "</table>\n",
       "</div>"
      ],
      "text/plain": [
       "         Date  Customer ID  Product ID Product Name  Cost Per Product  \\\n",
       "13  9 01 2023         1008         108       Jacket                63   \n",
       "\n",
       "    Price Per Product  Quantity  Revenue  Costs  Profit  Filter  \n",
       "13                 80         2      160    126      34    True  "
      ]
     },
     "execution_count": 48,
     "metadata": {},
     "output_type": "execute_result"
    }
   ],
   "source": [
    "df_most_profit = df.loc[df[\"Profit\"]==max(df[\"Profit\"])]\n",
    "df_most_profit"
   ]
  },
  {
   "cell_type": "markdown",
   "id": "1bcc4a5c",
   "metadata": {},
   "source": [
    "*5.*\n",
    "\n",
    "*Using seaborn, create a scatter plot to visualize the relationship between the sales and costs for each product. Is there any noticeable correlation?* "
   ]
  },
  {
   "cell_type": "code",
   "execution_count": 50,
   "id": "f609d41c",
   "metadata": {},
   "outputs": [
    {
     "data": {
      "image/png": "[encoded data removed]",
      "text/plain": [
       "<Figure size 1200x800 with 1 Axes>"
      ]
     },
     "metadata": {},
     "output_type": "display_data"
    }
   ],
   "source": [
    "import seaborn as sns\n",
    "\n",
    "fig, ax = plt.subplots(figsize=(12, 8))\n",
    "sns.scatterplot(x=df[\"Revenue\"], y=df[\"Costs\"], data=df)\n",
    "plt.title('Costs versus Profit', fontsize=20)\n",
    "plt.show()"
   ]
  },
  {
   "cell_type": "code",
   "execution_count": 51,
   "id": "806c5720",
   "metadata": {},
   "outputs": [
    {
     "name": "stdout",
     "output_type": "stream",
     "text": [
      "CSV dataset generated successfully.\n"
     ]
    }
   ],
   "source": [
    "import csv\n",
    "import random\n",
    "\n",
    "names = [\"Alice\", \"Bob\", \"Charlie\", \"David\", \"Eve\", \"Frank\", \"Grace\", \"Henry\", \"Ivy\", \"Jack\",\n",
    "         \"Kate\", \"Liam\", \"Mia\", \"Noah\", \"Olivia\", \"Peter\", \"Quinn\", \"Rachel\", \"Samuel\", \"Tara\",\n",
    "         \"Uma\", \"Victor\", \"Wendy\", \"Xander\", \"Yara\", \"Zara\", \"Alex\", \"Beth\", \"Chris\", \"Diana\"]\n",
    "\n",
    "\n",
    "data = []\n",
    "for _ in range(30):\n",
    "    name = random.choice(names)\n",
    "    distance = round(random.uniform(1, 10), 2)  \n",
    "    time = round(random.uniform(1, 5), 2)     \n",
    "    data.append([name, distance, time])\n",
    "\n",
    "with open('running_data.csv', mode='w', newline='') as file:\n",
    "    writer = csv.writer(file)\n",
    "    writer.writerow([\"Name\", \"Distance (km)\", \"Time (hours)\"])  \n",
    "    writer.writerows(data)  \n",
    "\n",
    "print(\"CSV dataset generated successfully.\")"
   ]
  },
  {
   "cell_type": "code",
   "execution_count": 52,
   "id": "916ab73a",
   "metadata": {},
   "outputs": [
    {
     "data": {
      "text/html": [
       "<div>\n",
       "<style scoped>\n",
       "    .dataframe tbody tr th:only-of-type {\n",
       "        vertical-align: middle;\n",
       "    }\n",
       "\n",
       "    .dataframe tbody tr th {\n",
       "        vertical-align: top;\n",
       "    }\n",
       "\n",
       "    .dataframe thead th {\n",
       "        text-align: right;\n",
       "    }\n",
       "</style>\n",
       "<table border=\"1\" class=\"dataframe\">\n",
       "  <thead>\n",
       "    <tr style=\"text-align: right;\">\n",
       "      <th></th>\n",
       "      <th>Name</th>\n",
       "      <th>Distance (km)</th>\n",
       "      <th>Time (hours)</th>\n",
       "    </tr>\n",
       "  </thead>\n",
       "  <tbody>\n",
       "    <tr>\n",
       "      <th>0</th>\n",
       "      <td>Grace</td>\n",
       "      <td>7.85</td>\n",
       "      <td>4.64</td>\n",
       "    </tr>\n",
       "    <tr>\n",
       "      <th>1</th>\n",
       "      <td>Frank</td>\n",
       "      <td>6.30</td>\n",
       "      <td>3.47</td>\n",
       "    </tr>\n",
       "    <tr>\n",
       "      <th>2</th>\n",
       "      <td>Quinn</td>\n",
       "      <td>1.18</td>\n",
       "      <td>4.19</td>\n",
       "    </tr>\n",
       "    <tr>\n",
       "      <th>3</th>\n",
       "      <td>Bob</td>\n",
       "      <td>5.26</td>\n",
       "      <td>1.88</td>\n",
       "    </tr>\n",
       "    <tr>\n",
       "      <th>4</th>\n",
       "      <td>Victor</td>\n",
       "      <td>6.82</td>\n",
       "      <td>3.60</td>\n",
       "    </tr>\n",
       "    <tr>\n",
       "      <th>5</th>\n",
       "      <td>Henry</td>\n",
       "      <td>8.11</td>\n",
       "      <td>1.14</td>\n",
       "    </tr>\n",
       "    <tr>\n",
       "      <th>6</th>\n",
       "      <td>Noah</td>\n",
       "      <td>7.54</td>\n",
       "      <td>1.69</td>\n",
       "    </tr>\n",
       "    <tr>\n",
       "      <th>7</th>\n",
       "      <td>Quinn</td>\n",
       "      <td>7.47</td>\n",
       "      <td>1.45</td>\n",
       "    </tr>\n",
       "    <tr>\n",
       "      <th>8</th>\n",
       "      <td>Samuel</td>\n",
       "      <td>3.39</td>\n",
       "      <td>2.90</td>\n",
       "    </tr>\n",
       "    <tr>\n",
       "      <th>9</th>\n",
       "      <td>Jack</td>\n",
       "      <td>5.41</td>\n",
       "      <td>2.39</td>\n",
       "    </tr>\n",
       "    <tr>\n",
       "      <th>10</th>\n",
       "      <td>Tara</td>\n",
       "      <td>6.45</td>\n",
       "      <td>2.02</td>\n",
       "    </tr>\n",
       "    <tr>\n",
       "      <th>11</th>\n",
       "      <td>Tara</td>\n",
       "      <td>8.70</td>\n",
       "      <td>2.66</td>\n",
       "    </tr>\n",
       "    <tr>\n",
       "      <th>12</th>\n",
       "      <td>Ivy</td>\n",
       "      <td>4.70</td>\n",
       "      <td>1.24</td>\n",
       "    </tr>\n",
       "    <tr>\n",
       "      <th>13</th>\n",
       "      <td>Tara</td>\n",
       "      <td>6.58</td>\n",
       "      <td>4.68</td>\n",
       "    </tr>\n",
       "    <tr>\n",
       "      <th>14</th>\n",
       "      <td>Eve</td>\n",
       "      <td>8.77</td>\n",
       "      <td>2.38</td>\n",
       "    </tr>\n",
       "    <tr>\n",
       "      <th>15</th>\n",
       "      <td>Chris</td>\n",
       "      <td>7.92</td>\n",
       "      <td>4.07</td>\n",
       "    </tr>\n",
       "    <tr>\n",
       "      <th>16</th>\n",
       "      <td>David</td>\n",
       "      <td>5.05</td>\n",
       "      <td>1.14</td>\n",
       "    </tr>\n",
       "    <tr>\n",
       "      <th>17</th>\n",
       "      <td>Beth</td>\n",
       "      <td>5.18</td>\n",
       "      <td>2.82</td>\n",
       "    </tr>\n",
       "    <tr>\n",
       "      <th>18</th>\n",
       "      <td>Kate</td>\n",
       "      <td>2.79</td>\n",
       "      <td>4.95</td>\n",
       "    </tr>\n",
       "    <tr>\n",
       "      <th>19</th>\n",
       "      <td>Henry</td>\n",
       "      <td>2.73</td>\n",
       "      <td>2.62</td>\n",
       "    </tr>\n",
       "    <tr>\n",
       "      <th>20</th>\n",
       "      <td>Henry</td>\n",
       "      <td>8.82</td>\n",
       "      <td>4.29</td>\n",
       "    </tr>\n",
       "    <tr>\n",
       "      <th>21</th>\n",
       "      <td>Uma</td>\n",
       "      <td>3.35</td>\n",
       "      <td>2.22</td>\n",
       "    </tr>\n",
       "    <tr>\n",
       "      <th>22</th>\n",
       "      <td>Zara</td>\n",
       "      <td>3.99</td>\n",
       "      <td>2.75</td>\n",
       "    </tr>\n",
       "    <tr>\n",
       "      <th>23</th>\n",
       "      <td>Henry</td>\n",
       "      <td>5.85</td>\n",
       "      <td>1.68</td>\n",
       "    </tr>\n",
       "    <tr>\n",
       "      <th>24</th>\n",
       "      <td>Frank</td>\n",
       "      <td>1.87</td>\n",
       "      <td>3.58</td>\n",
       "    </tr>\n",
       "    <tr>\n",
       "      <th>25</th>\n",
       "      <td>Noah</td>\n",
       "      <td>4.16</td>\n",
       "      <td>2.07</td>\n",
       "    </tr>\n",
       "    <tr>\n",
       "      <th>26</th>\n",
       "      <td>Grace</td>\n",
       "      <td>5.30</td>\n",
       "      <td>1.92</td>\n",
       "    </tr>\n",
       "    <tr>\n",
       "      <th>27</th>\n",
       "      <td>Liam</td>\n",
       "      <td>2.93</td>\n",
       "      <td>3.69</td>\n",
       "    </tr>\n",
       "    <tr>\n",
       "      <th>28</th>\n",
       "      <td>Alex</td>\n",
       "      <td>7.24</td>\n",
       "      <td>2.75</td>\n",
       "    </tr>\n",
       "    <tr>\n",
       "      <th>29</th>\n",
       "      <td>Zara</td>\n",
       "      <td>4.96</td>\n",
       "      <td>3.57</td>\n",
       "    </tr>\n",
       "  </tbody>\n",
       "</table>\n",
       "</div>"
      ],
      "text/plain": [
       "      Name  Distance (km)  Time (hours)\n",
       "0    Grace           7.85          4.64\n",
       "1    Frank           6.30          3.47\n",
       "2    Quinn           1.18          4.19\n",
       "3      Bob           5.26          1.88\n",
       "4   Victor           6.82          3.60\n",
       "5    Henry           8.11          1.14\n",
       "6     Noah           7.54          1.69\n",
       "7    Quinn           7.47          1.45\n",
       "8   Samuel           3.39          2.90\n",
       "9     Jack           5.41          2.39\n",
       "10    Tara           6.45          2.02\n",
       "11    Tara           8.70          2.66\n",
       "12     Ivy           4.70          1.24\n",
       "13    Tara           6.58          4.68\n",
       "14     Eve           8.77          2.38\n",
       "15   Chris           7.92          4.07\n",
       "16   David           5.05          1.14\n",
       "17    Beth           5.18          2.82\n",
       "18    Kate           2.79          4.95\n",
       "19   Henry           2.73          2.62\n",
       "20   Henry           8.82          4.29\n",
       "21     Uma           3.35          2.22\n",
       "22    Zara           3.99          2.75\n",
       "23   Henry           5.85          1.68\n",
       "24   Frank           1.87          3.58\n",
       "25    Noah           4.16          2.07\n",
       "26   Grace           5.30          1.92\n",
       "27    Liam           2.93          3.69\n",
       "28    Alex           7.24          2.75\n",
       "29    Zara           4.96          3.57"
      ]
     },
     "execution_count": 52,
     "metadata": {},
     "output_type": "execute_result"
    }
   ],
   "source": [
    "df = pd.read_csv(\"running_data.csv\")\n",
    "df"
   ]
  },
  {
   "cell_type": "code",
   "execution_count": 53,
   "id": "fedce473",
   "metadata": {},
   "outputs": [
    {
     "name": "stdout",
     "output_type": "stream",
     "text": [
      "Rest dataset generated successfully.\n"
     ]
    }
   ],
   "source": [
    "import csv\n",
    "import random\n",
    "\n",
    "names = [\"Alice\", \"Bob\", \"Charlie\", \"David\", \"Eve\", \"Frank\", \"Grace\", \"Henry\", \"Ivy\", \"Jack\",\n",
    "         \"Kate\", \"Liam\", \"Mia\", \"Noah\", \"Olivia\", \"Peter\", \"Quinn\", \"Rachel\", \"Samuel\", \"Tara\",\n",
    "         \"Uma\", \"Victor\", \"Wendy\", \"Xander\", \"Yara\", \"Zara\", \"Alex\", \"Beth\", \"Chris\", \"Diana\"]\n",
    "\n",
    "rest_data = []\n",
    "for _ in range(10):\n",
    "    name = random.choice(names)\n",
    "    rest_time = round(random.uniform(0.5, 3), 2) \n",
    "    rest_data.append([name, rest_time])\n",
    "\n",
    "with open('runner_rest.csv', mode='w', newline='') as file:\n",
    "    writer = csv.writer(file)\n",
    "    writer.writerow([\"Name\", \"Rest Time (hours)\"])  \n",
    "    writer.writerows(rest_data)  \n",
    "\n",
    "print(\"Rest dataset generated successfully.\")"
   ]
  },
  {
   "cell_type": "code",
   "execution_count": 54,
   "id": "cdc96136",
   "metadata": {},
   "outputs": [
    {
     "data": {
      "text/html": [
       "<div>\n",
       "<style scoped>\n",
       "    .dataframe tbody tr th:only-of-type {\n",
       "        vertical-align: middle;\n",
       "    }\n",
       "\n",
       "    .dataframe tbody tr th {\n",
       "        vertical-align: top;\n",
       "    }\n",
       "\n",
       "    .dataframe thead th {\n",
       "        text-align: right;\n",
       "    }\n",
       "</style>\n",
       "<table border=\"1\" class=\"dataframe\">\n",
       "  <thead>\n",
       "    <tr style=\"text-align: right;\">\n",
       "      <th></th>\n",
       "      <th>Name</th>\n",
       "      <th>Rest Time (hours)</th>\n",
       "    </tr>\n",
       "  </thead>\n",
       "  <tbody>\n",
       "    <tr>\n",
       "      <th>0</th>\n",
       "      <td>Frank</td>\n",
       "      <td>1.63</td>\n",
       "    </tr>\n",
       "    <tr>\n",
       "      <th>1</th>\n",
       "      <td>Henry</td>\n",
       "      <td>1.81</td>\n",
       "    </tr>\n",
       "    <tr>\n",
       "      <th>2</th>\n",
       "      <td>Rachel</td>\n",
       "      <td>1.64</td>\n",
       "    </tr>\n",
       "    <tr>\n",
       "      <th>3</th>\n",
       "      <td>Beth</td>\n",
       "      <td>1.79</td>\n",
       "    </tr>\n",
       "    <tr>\n",
       "      <th>4</th>\n",
       "      <td>Quinn</td>\n",
       "      <td>2.72</td>\n",
       "    </tr>\n",
       "    <tr>\n",
       "      <th>5</th>\n",
       "      <td>Bob</td>\n",
       "      <td>2.61</td>\n",
       "    </tr>\n",
       "    <tr>\n",
       "      <th>6</th>\n",
       "      <td>Grace</td>\n",
       "      <td>2.31</td>\n",
       "    </tr>\n",
       "    <tr>\n",
       "      <th>7</th>\n",
       "      <td>Liam</td>\n",
       "      <td>0.67</td>\n",
       "    </tr>\n",
       "    <tr>\n",
       "      <th>8</th>\n",
       "      <td>Victor</td>\n",
       "      <td>2.45</td>\n",
       "    </tr>\n",
       "    <tr>\n",
       "      <th>9</th>\n",
       "      <td>Grace</td>\n",
       "      <td>1.87</td>\n",
       "    </tr>\n",
       "  </tbody>\n",
       "</table>\n",
       "</div>"
      ],
      "text/plain": [
       "     Name  Rest Time (hours)\n",
       "0   Frank               1.63\n",
       "1   Henry               1.81\n",
       "2  Rachel               1.64\n",
       "3    Beth               1.79\n",
       "4   Quinn               2.72\n",
       "5     Bob               2.61\n",
       "6   Grace               2.31\n",
       "7    Liam               0.67\n",
       "8  Victor               2.45\n",
       "9   Grace               1.87"
      ]
     },
     "execution_count": 54,
     "metadata": {},
     "output_type": "execute_result"
    }
   ],
   "source": [
    "df2 = pd.read_csv(\"runner_rest.csv\")\n",
    "df2"
   ]
  },
  {
   "cell_type": "code",
   "execution_count": null,
   "id": "1a929eac",
   "metadata": {},
   "outputs": [],
   "source": []
  }
 ],
 "metadata": {
  "kernelspec": {
   "display_name": "Python 3",
   "language": "python",
   "name": "python3"
  },
  "language_info": {
   "codemirror_mode": {
    "name": "ipython",
    "version": 3
   },
   "file_extension": ".py",
   "mimetype": "text/x-python",
   "name": "python",
   "nbconvert_exporter": "python",
   "pygments_lexer": "ipython3",
   "version": "3.11.1"
  }
 },
 "nbformat": 4,
 "nbformat_minor": 5
}

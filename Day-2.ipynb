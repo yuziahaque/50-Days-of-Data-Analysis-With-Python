{
 "cells": [
  {
   "cell_type": "markdown",
   "id": "23fbc2f9",
   "metadata": {},
   "source": [
    "# **Day - 2 : Creating and Manipulating Arrays**"
   ]
  },
  {
   "cell_type": "markdown",
   "id": "09af1a12",
   "metadata": {},
   "source": [
    "*1.* \n",
    "\n",
    "*Write code to import NumPy into your script. Check the version of NumPy installed.*"
   ]
  },
  {
   "cell_type": "code",
   "execution_count": 6,
   "id": "8b4333b1",
   "metadata": {},
   "outputs": [
    {
     "data": {
      "text/plain": [
       "'1.26.4'"
      ]
     },
     "execution_count": 6,
     "metadata": {},
     "output_type": "execute_result"
    }
   ],
   "source": [
    "import numpy as np \n",
    "np.__version__"
   ]
  },
  {
   "cell_type": "markdown",
   "id": "4989eccc",
   "metadata": {},
   "source": [
    "\n",
    "*2.* \n",
    "\n",
    "*Here is a list below:* \n",
    "\n",
    "*list1 = [2, 3, 4, 6]* \n",
    "\n",
    "*Create a one-dimensional array from the list above.* \n",
    "\n",
    "*Write another  line  of  code  to  check  the  shape  and  size  of  your array.* \n",
    "\n",
    "*Write  a  function  that  takes  this  array  and  returns  a  new array with all the values in the original array reversed.*"
   ]
  },
  {
   "cell_type": "code",
   "execution_count": 16,
   "id": "bfbee986",
   "metadata": {},
   "outputs": [],
   "source": [
    "lst= [2,3,4,6]\n",
    "arr1= np.array(lst)"
   ]
  },
  {
   "cell_type": "code",
   "execution_count": 13,
   "id": "f2e01380",
   "metadata": {},
   "outputs": [
    {
     "data": {
      "text/plain": [
       "(4,)"
      ]
     },
     "execution_count": 13,
     "metadata": {},
     "output_type": "execute_result"
    }
   ],
   "source": [
    "arr1.shape"
   ]
  },
  {
   "cell_type": "code",
   "execution_count": 14,
   "id": "7cec0861",
   "metadata": {},
   "outputs": [
    {
     "data": {
      "text/plain": [
       "4"
      ]
     },
     "execution_count": 14,
     "metadata": {},
     "output_type": "execute_result"
    }
   ],
   "source": [
    "arr1.size"
   ]
  },
  {
   "cell_type": "code",
   "execution_count": 15,
   "id": "933500ba",
   "metadata": {},
   "outputs": [
    {
     "data": {
      "text/plain": [
       "array([6, 4, 3, 2])"
      ]
     },
     "execution_count": 15,
     "metadata": {},
     "output_type": "execute_result"
    }
   ],
   "source": [
    "def newarr(arr):\n",
    "    return arr[::-1]\n",
    "\n",
    "newarr(arr1)"
   ]
  },
  {
   "cell_type": "markdown",
   "id": "7c3df405",
   "metadata": {},
   "source": [
    "*3.* \n",
    "\n",
    "*list1 = [2, 3, 4, 6]* \n",
    "\n",
    "*list2 = [8, 10, 12, 14]* \n",
    "\n",
    "*Create an array from the two lists above.* \n",
    "\n",
    "*Then write code to check the shape, dimensions,  and data type of the array.*"
   ]
  },
  {
   "cell_type": "code",
   "execution_count": 17,
   "id": "f39796db",
   "metadata": {},
   "outputs": [],
   "source": [
    "list1 = [2, 3, 4, 6]\n",
    "list2 = [8, 10, 12, 14]"
   ]
  },
  {
   "cell_type": "code",
   "execution_count": 20,
   "id": "e3b21828",
   "metadata": {},
   "outputs": [
    {
     "data": {
      "text/plain": [
       "array([[ 2,  3,  4,  6],\n",
       "       [ 8, 10, 12, 14]])"
      ]
     },
     "execution_count": 20,
     "metadata": {},
     "output_type": "execute_result"
    }
   ],
   "source": [
    "arr2=np.array([list1, list2])\n",
    "arr2"
   ]
  },
  {
   "cell_type": "code",
   "execution_count": 21,
   "id": "654f8666",
   "metadata": {},
   "outputs": [
    {
     "data": {
      "text/plain": [
       "(2, 4)"
      ]
     },
     "execution_count": 21,
     "metadata": {},
     "output_type": "execute_result"
    }
   ],
   "source": [
    "arr2.shape"
   ]
  },
  {
   "cell_type": "code",
   "execution_count": 22,
   "id": "a1640a7d",
   "metadata": {},
   "outputs": [
    {
     "data": {
      "text/plain": [
       "2"
      ]
     },
     "execution_count": 22,
     "metadata": {},
     "output_type": "execute_result"
    }
   ],
   "source": [
    "arr2.ndim"
   ]
  },
  {
   "cell_type": "code",
   "execution_count": 23,
   "id": "30b85cbd",
   "metadata": {},
   "outputs": [
    {
     "data": {
      "text/plain": [
       "dtype('int32')"
      ]
     },
     "execution_count": 23,
     "metadata": {},
     "output_type": "execute_result"
    }
   ],
   "source": [
    "arr2.dtype"
   ]
  },
  {
   "cell_type": "markdown",
   "id": "51929846",
   "metadata": {},
   "source": [
    "*4.* \n",
    "\n",
    "*list1 = [2, 3, 4, 6]* \n",
    "\n",
    "*list2 = [8, 10.1, 12, 14]* \n",
    "\n",
    "*list3 = [16, 18, 20, 22.1]* \n",
    "\n",
    "*Create  an  array  from  the  three  (3)  lists  above.*\n",
    "\n",
    "*Take  note that  some  of  the  lists  contain  floats.  Create  an  array  that will have an int64 data type.*"
   ]
  },
  {
   "cell_type": "code",
   "execution_count": 24,
   "id": "e8dd5cea",
   "metadata": {},
   "outputs": [],
   "source": [
    "list1 = [2, 3, 4, 6] \n",
    "list2 = [8, 10.1, 12, 14] \n",
    "list3 = [16, 18, 20, 22.1] "
   ]
  },
  {
   "cell_type": "code",
   "execution_count": 26,
   "id": "4427c05e",
   "metadata": {},
   "outputs": [
    {
     "data": {
      "text/plain": [
       "array([[ 2. ,  3. ,  4. ,  6. ],\n",
       "       [ 8. , 10.1, 12. , 14. ],\n",
       "       [16. , 18. , 20. , 22.1]])"
      ]
     },
     "execution_count": 26,
     "metadata": {},
     "output_type": "execute_result"
    }
   ],
   "source": [
    "arr3= np.array([list1, list2, list3])\n",
    "arr3"
   ]
  },
  {
   "cell_type": "code",
   "execution_count": 27,
   "id": "c562f0d6",
   "metadata": {},
   "outputs": [
    {
     "data": {
      "text/plain": [
       "dtype('float64')"
      ]
     },
     "execution_count": 27,
     "metadata": {},
     "output_type": "execute_result"
    }
   ],
   "source": [
    "arr3.dtype"
   ]
  },
  {
   "cell_type": "code",
   "execution_count": 29,
   "id": "7ecdbe00",
   "metadata": {},
   "outputs": [],
   "source": [
    "arr4= np.array([list1, list2, list3], dtype='int64')"
   ]
  },
  {
   "cell_type": "code",
   "execution_count": 30,
   "id": "6c9ec021",
   "metadata": {},
   "outputs": [
    {
     "data": {
      "text/plain": [
       "array([[ 2,  3,  4,  6],\n",
       "       [ 8, 10, 12, 14],\n",
       "       [16, 18, 20, 22]], dtype=int64)"
      ]
     },
     "execution_count": 30,
     "metadata": {},
     "output_type": "execute_result"
    }
   ],
   "source": [
    "arr4"
   ]
  },
  {
   "cell_type": "markdown",
   "id": "91f1ed73",
   "metadata": {},
   "source": [
    "*5.* \n",
    "\n",
    "*Is it possible to create an array of both floats and integers?*"
   ]
  },
  {
   "cell_type": "code",
   "execution_count": 31,
   "id": "e129ab67",
   "metadata": {},
   "outputs": [],
   "source": [
    "# yessss\n",
    "list5 = [1,2,3,4,5,6,7.7,9]\n",
    "combined_arr=np.array(list5)"
   ]
  },
  {
   "cell_type": "code",
   "execution_count": 32,
   "id": "7c66b11a",
   "metadata": {},
   "outputs": [
    {
     "data": {
      "text/plain": [
       "dtype('float64')"
      ]
     },
     "execution_count": 32,
     "metadata": {},
     "output_type": "execute_result"
    }
   ],
   "source": [
    "combined_arr.dtype"
   ]
  },
  {
   "cell_type": "code",
   "execution_count": null,
   "id": "32e6f919",
   "metadata": {},
   "outputs": [],
   "source": []
  }
 ],
 "metadata": {
  "kernelspec": {
   "display_name": "Python 3",
   "language": "python",
   "name": "python3"
  },
  "language_info": {
   "codemirror_mode": {
    "name": "ipython",
    "version": 3
   },
   "file_extension": ".py",
   "mimetype": "text/x-python",
   "name": "python",
   "nbconvert_exporter": "python",
   "pygments_lexer": "ipython3",
   "version": "3.11.1"
  }
 },
 "nbformat": 4,
 "nbformat_minor": 5
}

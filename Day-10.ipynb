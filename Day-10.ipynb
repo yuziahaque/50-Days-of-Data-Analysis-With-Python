{
 "cells": [
  {
   "cell_type": "markdown",
   "id": "678632e1",
   "metadata": {},
   "source": [
    "# **Day - 10 : The arange Function and Boolean  Indexing**"
   ]
  },
  {
   "cell_type": "markdown",
   "id": "294065c7",
   "metadata": {},
   "source": [
    "*1.*\n",
    "\n",
    "*Create an array from the number above using the arange() function of NumPy. Your array should start at 0 with a step of 5.* "
   ]
  },
  {
   "cell_type": "code",
   "execution_count": 2,
   "id": "d920cc8c",
   "metadata": {},
   "outputs": [
    {
     "data": {
      "text/plain": [
       "array([ 0,  5, 10, 15, 20, 25, 30, 35, 40, 45])"
      ]
     },
     "execution_count": 2,
     "metadata": {},
     "output_type": "execute_result"
    }
   ],
   "source": [
    "import numpy as np\n",
    "\n",
    "num_array = np.arange(0, 50, 5)\n",
    "num_array"
   ]
  },
  {
   "cell_type": "markdown",
   "id": "098c6c81",
   "metadata": {},
   "source": [
    "*2.*\n",
    "\n",
    "*Using NumPy, write a code that returns all the numbers in the array that are greater than 25.* "
   ]
  },
  {
   "cell_type": "code",
   "execution_count": 4,
   "id": "0b0494fc",
   "metadata": {},
   "outputs": [
    {
     "name": "stdout",
     "output_type": "stream",
     "text": [
      "[30 35 40 45]\n"
     ]
    }
   ],
   "source": [
    "over_25_indices = np.where(num_array > 25)\n",
    "\n",
    "print(num_array[over_25_indices])"
   ]
  },
  {
   "cell_type": "markdown",
   "id": "ea0c6777",
   "metadata": {},
   "source": [
    "*3.*\n",
    "\n",
    "*Using Boolean indexing of NumPy arrays, return the days of the week where hours worked were 8.* "
   ]
  },
  {
   "cell_type": "code",
   "execution_count": 5,
   "id": "5571cd85",
   "metadata": {},
   "outputs": [
    {
     "data": {
      "text/plain": [
       "array(['mon', 'tue'], dtype='<U3')"
      ]
     },
     "execution_count": 5,
     "metadata": {},
     "output_type": "execute_result"
    }
   ],
   "source": [
    "days = [\"mon\", \"tue\",  \"wed\",  \"thu\",  \"Fri\"]\n",
    "hours_worked = [ 8, 8, 10, 11, 7]\n",
    "\n",
    "days = np.array(days)\n",
    "hours_worked = np.array(hours_worked)\n",
    "\n",
    "days_8hrs = days[hours_worked == 8]\n",
    "days_8hrs"
   ]
  },
  {
   "cell_type": "markdown",
   "id": "4f91ef12",
   "metadata": {},
   "source": [
    "*4.*\n",
    "\n",
    "*Write another code (using Boolean indexing) to return the day of the week with the highest number of hours worked.* "
   ]
  },
  {
   "cell_type": "code",
   "execution_count": 7,
   "id": "db77f203",
   "metadata": {},
   "outputs": [
    {
     "name": "stdout",
     "output_type": "stream",
     "text": [
      "Day with the max hours worked is,thu\n"
     ]
    }
   ],
   "source": [
    "max_hours_index = np.argmax(hours_worked)\n",
    "print(f'Day with the max hours worked is,{days[max_hours_index]}')"
   ]
  },
  {
   "cell_type": "markdown",
   "id": "c588d112",
   "metadata": {},
   "source": [
    "*5.*\n",
    "\n",
    "*Write another code to return all the days of the week, where over 9 hours of work was achieved.* "
   ]
  },
  {
   "cell_type": "code",
   "execution_count": 8,
   "id": "381379c8",
   "metadata": {},
   "outputs": [
    {
     "data": {
      "text/plain": [
       "array(['wed', 'thu'], dtype='<U3')"
      ]
     },
     "execution_count": 8,
     "metadata": {},
     "output_type": "execute_result"
    }
   ],
   "source": [
    "days_over_9hrs = days[hours_worked > 9]\n",
    "days_over_9hrs"
   ]
  }
 ],
 "metadata": {
  "kernelspec": {
   "display_name": "Python 3",
   "language": "python",
   "name": "python3"
  },
  "language_info": {
   "codemirror_mode": {
    "name": "ipython",
    "version": 3
   },
   "file_extension": ".py",
   "mimetype": "text/x-python",
   "name": "python",
   "nbconvert_exporter": "python",
   "pygments_lexer": "ipython3",
   "version": "3.11.1"
  }
 },
 "nbformat": 4,
 "nbformat_minor": 5
}

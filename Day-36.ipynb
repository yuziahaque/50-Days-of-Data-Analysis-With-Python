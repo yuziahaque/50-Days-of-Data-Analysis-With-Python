{
 "cells": [
  {
   "cell_type": "markdown",
   "id": "23c2711d",
   "metadata": {},
   "source": [
    "# **Day - 36 : Social Media Data Analysis**"
   ]
  },
  {
   "cell_type": "markdown",
   "id": "abd4e6be",
   "metadata": {},
   "source": [
    "*1.*\n",
    "\n",
    "*Load the data using pandas, which location has the most active users based on total posts?. What is the total number of posts in this location?* "
   ]
  },
  {
   "cell_type": "code",
   "execution_count": 2,
   "id": "df791d18",
   "metadata": {},
   "outputs": [
    {
     "data": {
      "text/html": [
       "<div>\n",
       "<style scoped>\n",
       "    .dataframe tbody tr th:only-of-type {\n",
       "        vertical-align: middle;\n",
       "    }\n",
       "\n",
       "    .dataframe tbody tr th {\n",
       "        vertical-align: top;\n",
       "    }\n",
       "\n",
       "    .dataframe thead th {\n",
       "        text-align: right;\n",
       "    }\n",
       "</style>\n",
       "<table border=\"1\" class=\"dataframe\">\n",
       "  <thead>\n",
       "    <tr style=\"text-align: right;\">\n",
       "      <th></th>\n",
       "      <th>username</th>\n",
       "      <th>age</th>\n",
       "      <th>gender</th>\n",
       "      <th>location</th>\n",
       "      <th>followers</th>\n",
       "      <th>posts</th>\n",
       "      <th>friends</th>\n",
       "    </tr>\n",
       "  </thead>\n",
       "  <tbody>\n",
       "    <tr>\n",
       "      <th>0</th>\n",
       "      <td>user1</td>\n",
       "      <td>28</td>\n",
       "      <td>male</td>\n",
       "      <td>Philadelphia</td>\n",
       "      <td>5493</td>\n",
       "      <td>56</td>\n",
       "      <td>605</td>\n",
       "    </tr>\n",
       "    <tr>\n",
       "      <th>1</th>\n",
       "      <td>user2</td>\n",
       "      <td>22</td>\n",
       "      <td>female</td>\n",
       "      <td>Los Angeles</td>\n",
       "      <td>9530</td>\n",
       "      <td>25</td>\n",
       "      <td>683</td>\n",
       "    </tr>\n",
       "    <tr>\n",
       "      <th>2</th>\n",
       "      <td>user3</td>\n",
       "      <td>22</td>\n",
       "      <td>male</td>\n",
       "      <td>Philadelphia</td>\n",
       "      <td>7200</td>\n",
       "      <td>20</td>\n",
       "      <td>100</td>\n",
       "    </tr>\n",
       "    <tr>\n",
       "      <th>3</th>\n",
       "      <td>user4</td>\n",
       "      <td>32</td>\n",
       "      <td>female</td>\n",
       "      <td>New York</td>\n",
       "      <td>7164</td>\n",
       "      <td>90</td>\n",
       "      <td>364</td>\n",
       "    </tr>\n",
       "    <tr>\n",
       "      <th>4</th>\n",
       "      <td>user5</td>\n",
       "      <td>33</td>\n",
       "      <td>male</td>\n",
       "      <td>San Diego</td>\n",
       "      <td>4034</td>\n",
       "      <td>44</td>\n",
       "      <td>624</td>\n",
       "    </tr>\n",
       "    <tr>\n",
       "      <th>5</th>\n",
       "      <td>user6</td>\n",
       "      <td>27</td>\n",
       "      <td>male</td>\n",
       "      <td>Phoenix</td>\n",
       "      <td>1389</td>\n",
       "      <td>58</td>\n",
       "      <td>765</td>\n",
       "    </tr>\n",
       "    <tr>\n",
       "      <th>6</th>\n",
       "      <td>user7</td>\n",
       "      <td>28</td>\n",
       "      <td>male</td>\n",
       "      <td>Phoenix</td>\n",
       "      <td>1937</td>\n",
       "      <td>25</td>\n",
       "      <td>923</td>\n",
       "    </tr>\n",
       "    <tr>\n",
       "      <th>7</th>\n",
       "      <td>user8</td>\n",
       "      <td>34</td>\n",
       "      <td>female</td>\n",
       "      <td>Dallas</td>\n",
       "      <td>5344</td>\n",
       "      <td>70</td>\n",
       "      <td>452</td>\n",
       "    </tr>\n",
       "    <tr>\n",
       "      <th>8</th>\n",
       "      <td>user9</td>\n",
       "      <td>34</td>\n",
       "      <td>female</td>\n",
       "      <td>Chicago</td>\n",
       "      <td>8655</td>\n",
       "      <td>51</td>\n",
       "      <td>980</td>\n",
       "    </tr>\n",
       "    <tr>\n",
       "      <th>9</th>\n",
       "      <td>user10</td>\n",
       "      <td>27</td>\n",
       "      <td>female</td>\n",
       "      <td>Los Angeles</td>\n",
       "      <td>9825</td>\n",
       "      <td>60</td>\n",
       "      <td>575</td>\n",
       "    </tr>\n",
       "  </tbody>\n",
       "</table>\n",
       "</div>"
      ],
      "text/plain": [
       "  username  age  gender      location  followers  posts  friends\n",
       "0    user1   28    male  Philadelphia       5493     56      605\n",
       "1    user2   22  female   Los Angeles       9530     25      683\n",
       "2    user3   22    male  Philadelphia       7200     20      100\n",
       "3    user4   32  female      New York       7164     90      364\n",
       "4    user5   33    male     San Diego       4034     44      624\n",
       "5    user6   27    male       Phoenix       1389     58      765\n",
       "6    user7   28    male       Phoenix       1937     25      923\n",
       "7    user8   34  female        Dallas       5344     70      452\n",
       "8    user9   34  female       Chicago       8655     51      980\n",
       "9   user10   27  female   Los Angeles       9825     60      575"
      ]
     },
     "execution_count": 2,
     "metadata": {},
     "output_type": "execute_result"
    }
   ],
   "source": [
    "import pandas as pd\n",
    "\n",
    "df = pd.read_csv('Data/social_media.csv')\n",
    "df"
   ]
  },
  {
   "cell_type": "code",
   "execution_count": 3,
   "id": "85b27dcf",
   "metadata": {},
   "outputs": [
    {
     "name": "stdout",
     "output_type": "stream",
     "text": [
      "The most active location based on posts is New York\n",
      "The total number of posts is 90\n"
     ]
    }
   ],
   "source": [
    "location_counts = df.groupby('location').sum()['posts']\n",
    "\n",
    "most_active_loc = location_counts.idxmax()\n",
    "print(f'The most active location based on posts is {most_active_loc}')\n",
    "print(f'The total number of posts is {location_counts.max()}')"
   ]
  },
  {
   "cell_type": "markdown",
   "id": "469bc7c1",
   "metadata": {},
   "source": [
    "*2.*\n",
    "\n",
    "*Which gender has the least number of friends and what is the total number of friends for this gender?* "
   ]
  },
  {
   "cell_type": "code",
   "execution_count": 4,
   "id": "da8ac4f2",
   "metadata": {},
   "outputs": [
    {
     "name": "stdout",
     "output_type": "stream",
     "text": [
      "The gender with the least friends is male\n",
      "The total number of friends is  3017\n"
     ]
    }
   ],
   "source": [
    "gender_counts = df.groupby('gender').sum()['friends']\n",
    "\n",
    "least_active_gender = gender_counts.idxmin()\n",
    "print(f'The gender with the least friends is {least_active_gender}')\n",
    "print(f'The total number of friends is  {gender_counts.male}')"
   ]
  },
  {
   "cell_type": "markdown",
   "id": "866e026b",
   "metadata": {},
   "source": [
    "*3.*\n",
    "\n",
    "*What is the gender, location and age of the most active user based on posts?* "
   ]
  },
  {
   "cell_type": "code",
   "execution_count": 5,
   "id": "f17b93c1",
   "metadata": {},
   "outputs": [
    {
     "name": "stdout",
     "output_type": "stream",
     "text": [
      "The age of the most active is 32\n",
      "The gender of the most active user is female\n",
      "The city with the most active user is New York\n"
     ]
    }
   ],
   "source": [
    "age_of_user = df.sort_values(by=\"posts\", ascending=False).loc[:,\"age\"].head(1)\n",
    "\n",
    "gender_of_user = df.sort_values(by=\"posts\", ascending=False).loc[:,\"gender\"].head(1)\n",
    "city_of_user = df.sort_values(by=\"posts\", ascending=False).loc[:,\"location\"].head(1)\n",
    "\n",
    "print(f'The age of the most active is {age_of_user.iloc[0]}')\n",
    "print(f'The gender of the most active user is {gender_of_user.iloc[0]}')\n",
    "print(f'The city with the most active user is {city_of_user.iloc[0]}')"
   ]
  },
  {
   "cell_type": "markdown",
   "id": "ccf96ee2",
   "metadata": {},
   "source": [
    "*4.*\n",
    "\n",
    "*Which city has the highest number of female users?* "
   ]
  },
  {
   "cell_type": "code",
   "execution_count": 6,
   "id": "7ca7322f",
   "metadata": {},
   "outputs": [
    {
     "name": "stdout",
     "output_type": "stream",
     "text": [
      "The city with the most female users is Los Angeles\n"
     ]
    }
   ],
   "source": [
    "city_gender_counts = df.groupby([\"location\",\"gender\"]).size(). reset_index(name = \"count\")\n",
    "\n",
    "female_users = city_gender_counts[city_gender_counts[\"gender\"] == \"female\"]\n",
    "\n",
    "most_female_users_city = female_users[\"count\"].idxmax()\n",
    "\n",
    "city = female_users.iloc[most_female_users_city][\"location\"]\n",
    "\n",
    "print(f'The city with the most female users is {city}')"
   ]
  },
  {
   "cell_type": "markdown",
   "id": "7b4ea05d",
   "metadata": {},
   "source": [
    "*5.*\n",
    "\n",
    "*Using a pie chart, compare the number of male and female users. Present your answer in percentages. Use Matplotlib.* "
   ]
  },
  {
   "cell_type": "code",
   "execution_count": 7,
   "id": "d5e0b3bf",
   "metadata": {},
   "outputs": [
    {
     "data": {
      "image/png": "[encoded data removed]",
      "text/plain": [
       "<Figure size 1200x800 with 1 Axes>"
      ]
     },
     "metadata": {},
     "output_type": "display_data"
    }
   ],
   "source": [
    "import matplotlib.pyplot as plt\n",
    "\n",
    "\n",
    "gender_counts = df['gender'].value_counts()\n",
    "\n",
    "plt.figure(figsize=(12,8))\n",
    "plt.pie(gender_counts, labels=['Male', 'Female'], \n",
    "        autopct='%1.1f%%',\n",
    "        shadow=True)\n",
    "\n",
    "plt.title('Gender Distribution', fontsize= 20)\n",
    "plt.show()"
   ]
  },
  {
   "cell_type": "code",
   "execution_count": null,
   "id": "bf786f1a",
   "metadata": {},
   "outputs": [],
   "source": []
  }
 ],
 "metadata": {
  "kernelspec": {
   "display_name": "Python 3",
   "language": "python",
   "name": "python3"
  },
  "language_info": {
   "codemirror_mode": {
    "name": "ipython",
    "version": 3
   },
   "file_extension": ".py",
   "mimetype": "text/x-python",
   "name": "python",
   "nbconvert_exporter": "python",
   "pygments_lexer": "ipython3",
   "version": "3.11.1"
  }
 },
 "nbformat": 4,
 "nbformat_minor": 5
}
